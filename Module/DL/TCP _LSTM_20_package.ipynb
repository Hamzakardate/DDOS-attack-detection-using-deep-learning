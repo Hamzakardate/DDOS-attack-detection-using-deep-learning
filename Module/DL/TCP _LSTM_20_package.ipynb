{
  "cells": [
    {
      "cell_type": "code",
      "execution_count": 1,
      "metadata": {
        "id": "RL8cpI9FPXYK"
      },
      "outputs": [],
      "source": [
        "import numpy as np\n",
        "import pandas as pd\n",
        "import matplotlib.pyplot as plt\n",
        "\n",
        "import seaborn as sns; sns.set()\n",
        "from keras.models import Sequential, load_model\n",
        "from keras.layers import Dense, LSTM, Bidirectional\n",
        "\n",
        "from keras.utils.vis_utils import plot_model\n",
        "from keras.utils.np_utils import to_categorical\n",
        "from keras.utils import np_utils\n",
        "\n",
        "from sklearn.model_selection import train_test_split\n",
        "from sklearn.preprocessing import LabelEncoder, StandardScaler\n",
        "from sklearn.metrics import confusion_matrix"
      ]
    },
    {
      "cell_type": "code",
      "execution_count": 2,
      "metadata": {
        "colab": {
          "base_uri": "https://localhost:8080/"
        },
        "id": "-UAJ2cRtPZUM",
        "outputId": "a5b1f16f-4368-4507-dfe6-6c803c5ae68b"
      },
      "outputs": [
        {
          "name": "stdout",
          "output_type": "stream",
          "text": [
            "Mounted at /content/drive\n"
          ]
        }
      ],
      "source": [
        "from google.colab import drive\n",
        "drive.mount('/content/drive')"
      ]
    },
    {
      "cell_type": "code",
      "execution_count": 3,
      "metadata": {
        "id": "rW6ph4TvP_Ek"
      },
      "outputs": [],
      "source": [
        "number_of_samples = 2500000"
      ]
    },
    {
      "cell_type": "code",
      "execution_count": 4,
      "metadata": {
        "id": "j3iq7U_MQCTU"
      },
      "outputs": [],
      "source": [
        "data_attack = pd.read_csv('/content/drive/MyDrive/dataset_attack.csv', nrows = number_of_samples)"
      ]
    },
    {
      "cell_type": "code",
      "execution_count": 5,
      "metadata": {
        "id": "7PCWUWQtQFLk"
      },
      "outputs": [],
      "source": [
        "data_normal = pd.read_csv('/content/drive/MyDrive/dataset_normal.csv', nrows = number_of_samples)"
      ]
    },
    {
      "cell_type": "code",
      "execution_count": 6,
      "metadata": {
        "id": "eiRoBd7IQI7G"
      },
      "outputs": [],
      "source": [
        "data_normal.columns=[ 'frame.len', 'frame.protocols', 'ip.hdr_len',\n",
        "       'ip.len', 'ip.flags.rb', 'ip.flags.df', 'p.flags.mf', 'ip.frag_offset',\n",
        "       'ip.ttl', 'ip.proto', 'ip.src', 'ip.dst', 'tcp.srcport', 'tcp.dstport',\n",
        "       'tcp.len', 'tcp.ack', 'tcp.flags.res', 'tcp.flags.ns', 'tcp.flags.cwr',\n",
        "       'tcp.flags.ecn', 'tcp.flags.urg', 'tcp.flags.ack', 'tcp.flags.push',\n",
        "       'tcp.flags.reset', 'tcp.flags.syn', 'tcp.flags.fin', 'tcp.window_size',\n",
        "       'tcp.time_delta','class']\n",
        "data_attack.columns=[ 'frame.len', 'frame.protocols', 'ip.hdr_len',\n",
        "       'ip.len', 'ip.flags.rb', 'ip.flags.df', 'p.flags.mf', 'ip.frag_offset',\n",
        "       'ip.ttl', 'ip.proto', 'ip.src', 'ip.dst', 'tcp.srcport', 'tcp.dstport',\n",
        "       'tcp.len', 'tcp.ack', 'tcp.flags.res', 'tcp.flags.ns', 'tcp.flags.cwr',\n",
        "       'tcp.flags.ecn', 'tcp.flags.urg', 'tcp.flags.ack', 'tcp.flags.push',\n",
        "       'tcp.flags.reset', 'tcp.flags.syn', 'tcp.flags.fin', 'tcp.window_size',\n",
        "       'tcp.time_delta','class']"
      ]
    },
    {
      "cell_type": "code",
      "execution_count": 7,
      "metadata": {
        "id": "9LkfwNybQPKO"
      },
      "outputs": [],
      "source": [
        "data_normal=data_normal.drop(['ip.src', 'ip.dst','frame.protocols'],axis=1)\n",
        "data_attack=data_attack.drop(['ip.src', 'ip.dst','frame.protocols'],axis=1)"
      ]
    },
    {
      "cell_type": "code",
      "execution_count": 8,
      "metadata": {
        "id": "qmR8xWrhQSe6"
      },
      "outputs": [],
      "source": [
        "import pandas as pd\n",
        "import seaborn as sn\n",
        "import matplotlib.pyplot as plt"
      ]
    },
    {
      "cell_type": "code",
      "execution_count": 9,
      "metadata": {
        "id": "3ZP34h7jQVlB"
      },
      "outputs": [],
      "source": [
        "features=[ 'frame.len', 'ip.hdr_len',\n",
        "       'ip.len', 'ip.flags.rb', 'ip.flags.df', 'p.flags.mf', 'ip.frag_offset',\n",
        "       'ip.ttl', 'ip.proto', 'tcp.srcport', 'tcp.dstport',\n",
        "       'tcp.len', 'tcp.ack', 'tcp.flags.res', 'tcp.flags.ns', 'tcp.flags.cwr',\n",
        "       'tcp.flags.ecn', 'tcp.flags.urg', 'tcp.flags.ack', 'tcp.flags.push',\n",
        "       'tcp.flags.reset', 'tcp.flags.syn', 'tcp.flags.fin', 'tcp.window_size',\n",
        "       'tcp.time_delta']"
      ]
    },
    {
      "cell_type": "code",
      "execution_count": 10,
      "metadata": {
        "id": "W9BJI9o4QaIl"
      },
      "outputs": [],
      "source": [
        "X_normal= data_normal[features].values\n",
        "X_attack= data_attack[features].values\n",
        "Y_normal= data_normal['class']\n",
        "Y_attack= data_attack['class']\n",
        "X=np.concatenate((X_normal,X_attack))\n",
        "Y=np.concatenate((Y_normal,Y_attack))"
      ]
    },
    {
      "cell_type": "code",
      "execution_count": 11,
      "metadata": {
        "id": "FwoFXcvBQcmy"
      },
      "outputs": [],
      "source": [
        "from sklearn import preprocessing\n",
        "\n",
        "min_max_scaler = preprocessing.MinMaxScaler()\n",
        "\n",
        "x = min_max_scaler.fit_transform(X)\n"
      ]
    },
    {
      "cell_type": "code",
      "execution_count": 12,
      "metadata": {
        "colab": {
          "base_uri": "https://localhost:8080/"
        },
        "id": "Kkyyf0_jQ-Ee",
        "outputId": "de9bd308-ed17-4a78-a8a9-c4e448fd0f8f"
      },
      "outputs": [
        {
          "data": {
            "text/plain": [
              "(5000000, 25)"
            ]
          },
          "execution_count": 12,
          "metadata": {},
          "output_type": "execute_result"
        }
      ],
      "source": [
        "x.shape"
      ]
    },
    {
      "cell_type": "code",
      "execution_count": 13,
      "metadata": {
        "id": "q3rOO3PVQjG5"
      },
      "outputs": [],
      "source": [
        "X=np.reshape(x, (250000, 500))"
      ]
    },
    {
      "cell_type": "code",
      "execution_count": 14,
      "metadata": {
        "colab": {
          "base_uri": "https://localhost:8080/"
        },
        "id": "U3VWFPaTReZG",
        "outputId": "849bda08-72bd-49a0-dfa5-32b0b1af2d33"
      },
      "outputs": [
        {
          "data": {
            "text/plain": [
              "(250000, 500)"
            ]
          },
          "execution_count": 14,
          "metadata": {},
          "output_type": "execute_result"
        }
      ],
      "source": [
        "X.shape"
      ]
    },
    {
      "cell_type": "code",
      "execution_count": 15,
      "metadata": {
        "id": "JB5Iu_kNRLnm"
      },
      "outputs": [],
      "source": [
        "for i in range(0,len(Y)):\n",
        "  if Y[i]==\"attack\":\n",
        "    Y[i]=1\n",
        "  else:\n",
        "    Y[i]=0"
      ]
    },
    {
      "cell_type": "code",
      "execution_count": 16,
      "metadata": {
        "id": "WnRDAM8GTlvO"
      },
      "outputs": [],
      "source": [
        "my_array = np.array(Y)"
      ]
    },
    {
      "cell_type": "code",
      "execution_count": 17,
      "metadata": {
        "colab": {
          "base_uri": "https://localhost:8080/"
        },
        "id": "w5y8ig6NTtkS",
        "outputId": "fb51b249-ccef-4f3a-bba5-ef47107dcc04"
      },
      "outputs": [
        {
          "data": {
            "text/plain": [
              "(5000000,)"
            ]
          },
          "execution_count": 17,
          "metadata": {},
          "output_type": "execute_result"
        }
      ],
      "source": [
        "my_array.shape"
      ]
    },
    {
      "cell_type": "code",
      "execution_count": 18,
      "metadata": {
        "id": "3AceaOwTTzU3"
      },
      "outputs": [],
      "source": [
        "y_n=np.reshape(my_array, (250000,20))"
      ]
    },
    {
      "cell_type": "code",
      "execution_count": 19,
      "metadata": {
        "colab": {
          "base_uri": "https://localhost:8080/"
        },
        "id": "6X8_2we7V1YE",
        "outputId": "5892b819-db72-49ca-d4ff-383a2d1de39b"
      },
      "outputs": [
        {
          "data": {
            "text/plain": [
              "(250000, 20)"
            ]
          },
          "execution_count": 19,
          "metadata": {},
          "output_type": "execute_result"
        }
      ],
      "source": [
        "y_n.shape"
      ]
    },
    {
      "cell_type": "code",
      "execution_count": 20,
      "metadata": {
        "id": "7WRZsNX0Uevh"
      },
      "outputs": [],
      "source": [
        "import numpy as np\n",
        "l_n = y_n.tolist()"
      ]
    },
    {
      "cell_type": "code",
      "execution_count": 21,
      "metadata": {
        "colab": {
          "base_uri": "https://localhost:8080/"
        },
        "id": "mnrZ7T0qVrIR",
        "outputId": "ac4ce166-0636-4a00-f29d-065966796762"
      },
      "outputs": [
        {
          "data": {
            "text/plain": [
              "250000"
            ]
          },
          "execution_count": 21,
          "metadata": {},
          "output_type": "execute_result"
        }
      ],
      "source": [
        "len(l_n)"
      ]
    },
    {
      "cell_type": "code",
      "execution_count": 22,
      "metadata": {
        "id": "irf4Zg1BS7MM"
      },
      "outputs": [],
      "source": [
        "y_ll=[]\n",
        "for i in range(0,len(l_n)):\n",
        "  s=sum(l_n[i])\n",
        "  if s>10:\n",
        "    y_ll.append(1)\n",
        "  else:\n",
        "    y_ll.append(0)"
      ]
    },
    {
      "cell_type": "code",
      "execution_count": 23,
      "metadata": {
        "id": "j-K1Zd2SWtBD"
      },
      "outputs": [],
      "source": [
        "y_all = np.array(y_ll)"
      ]
    },
    {
      "cell_type": "code",
      "execution_count": 24,
      "metadata": {
        "id": "dtqY11CTXKm5"
      },
      "outputs": [],
      "source": [
        "X_train, X_test, Y_train, Y_test = train_test_split(X, y_all, test_size = 0.20)"
      ]
    },
    {
      "cell_type": "code",
      "execution_count": 25,
      "metadata": {
        "colab": {
          "base_uri": "https://localhost:8080/"
        },
        "id": "-tqwtL6nmpsL",
        "outputId": "b9a18bb2-6ce3-41c8-c952-30aadcf1bbb7"
      },
      "outputs": [
        {
          "name": "stdout",
          "output_type": "stream",
          "text": [
            "(200000, 500)\n",
            "(50000, 500)\n",
            "(200000,)\n",
            "(50000,)\n"
          ]
        }
      ],
      "source": [
        "print(X_train.shape)\n",
        "print(X_test.shape)\n",
        "print(Y_train.shape)\n",
        "print(Y_test.shape)"
      ]
    },
    {
      "cell_type": "code",
      "execution_count": 26,
      "metadata": {
        "id": "9RDV9pfXl4bT"
      },
      "outputs": [],
      "source": [
        "X_train=np.reshape(X_train, (200000, 25,20))\n",
        "X_test =np.reshape(X_test, (50000, 25,20))\n",
        "Y_train=np.reshape(Y_train, (200000,1))\n",
        "Y_test =np.reshape(Y_test, (50000,1))"
      ]
    },
    {
      "cell_type": "code",
      "execution_count": 27,
      "metadata": {
        "id": "NcT1aqBEXWEG"
      },
      "outputs": [],
      "source": [
        "def create_baseline():\n",
        "    model = Sequential()\n",
        "    model.add(LSTM(8, activation='relu', return_sequences=True, input_shape=(25, 20)))\n",
        "    model.add(LSTM(8, activation='relu'))\n",
        "    \n",
        "    model.add(Dense(1))\n",
        "    model.compile(optimizer='adam', loss='mse', metrics = ['accuracy'])\n",
        "    \n",
        "    return model"
      ]
    },
    {
      "cell_type": "code",
      "execution_count": 28,
      "metadata": {
        "id": "K8OePGZzXZnx"
      },
      "outputs": [],
      "source": [
        "model = create_baseline()"
      ]
    },
    {
      "cell_type": "code",
      "execution_count": 29,
      "metadata": {
        "colab": {
          "base_uri": "https://localhost:8080/"
        },
        "id": "kVv1fG4XXkxn",
        "outputId": "9f7405d0-d0da-4d57-95fd-a6379c1a9146"
      },
      "outputs": [
        {
          "name": "stdout",
          "output_type": "stream",
          "text": [
            "Epoch 1/100\n",
            "6250/6250 [==============================] - 99s 15ms/step - loss: 0.0815 - accuracy: 0.8924 - val_loss: 0.0611 - val_accuracy: 0.9219\n",
            "Epoch 2/100\n",
            "6250/6250 [==============================] - 97s 16ms/step - loss: 0.0558 - accuracy: 0.9292 - val_loss: 0.0494 - val_accuracy: 0.9357\n",
            "Epoch 3/100\n",
            "6250/6250 [==============================] - 96s 15ms/step - loss: 0.0483 - accuracy: 0.9393 - val_loss: 0.0510 - val_accuracy: 0.9386\n",
            "Epoch 4/100\n",
            "6250/6250 [==============================] - 101s 16ms/step - loss: 0.0425 - accuracy: 0.9478 - val_loss: 0.0431 - val_accuracy: 0.9451\n",
            "Epoch 5/100\n",
            "6250/6250 [==============================] - 98s 16ms/step - loss: 0.0373 - accuracy: 0.9541 - val_loss: 0.0354 - val_accuracy: 0.9566\n",
            "Epoch 6/100\n",
            "6250/6250 [==============================] - 101s 16ms/step - loss: 0.0346 - accuracy: 0.9577 - val_loss: 0.0354 - val_accuracy: 0.9571\n",
            "Epoch 7/100\n",
            "6250/6250 [==============================] - 97s 16ms/step - loss: 0.0326 - accuracy: 0.9608 - val_loss: 0.0396 - val_accuracy: 0.9525\n",
            "Epoch 8/100\n",
            "6250/6250 [==============================] - 98s 16ms/step - loss: 0.0308 - accuracy: 0.9633 - val_loss: 0.0310 - val_accuracy: 0.9636\n",
            "Epoch 9/100\n",
            "6250/6250 [==============================] - 99s 16ms/step - loss: 0.0294 - accuracy: 0.9648 - val_loss: 0.0278 - val_accuracy: 0.9675\n",
            "Epoch 10/100\n",
            "6250/6250 [==============================] - 99s 16ms/step - loss: 0.0282 - accuracy: 0.9666 - val_loss: 0.0280 - val_accuracy: 0.9677\n",
            "Epoch 11/100\n",
            "6250/6250 [==============================] - 100s 16ms/step - loss: 0.0274 - accuracy: 0.9677 - val_loss: 0.0265 - val_accuracy: 0.9684\n",
            "Epoch 12/100\n",
            "6250/6250 [==============================] - 99s 16ms/step - loss: 0.0263 - accuracy: 0.9689 - val_loss: 0.0261 - val_accuracy: 0.9691\n",
            "Epoch 13/100\n",
            "6250/6250 [==============================] - 99s 16ms/step - loss: 0.0257 - accuracy: 0.9699 - val_loss: 0.0254 - val_accuracy: 0.9704\n",
            "Epoch 14/100\n",
            "6250/6250 [==============================] - 98s 16ms/step - loss: 0.0249 - accuracy: 0.9708 - val_loss: 0.0249 - val_accuracy: 0.9712\n",
            "Epoch 15/100\n",
            "6250/6250 [==============================] - 100s 16ms/step - loss: 0.0244 - accuracy: 0.9714 - val_loss: 0.0242 - val_accuracy: 0.9712\n",
            "Epoch 16/100\n",
            "6250/6250 [==============================] - 98s 16ms/step - loss: 0.0237 - accuracy: 0.9721 - val_loss: 0.0230 - val_accuracy: 0.9722\n",
            "Epoch 17/100\n",
            "6250/6250 [==============================] - 98s 16ms/step - loss: 0.0233 - accuracy: 0.9726 - val_loss: 0.0231 - val_accuracy: 0.9720\n",
            "Epoch 18/100\n",
            "6250/6250 [==============================] - 97s 16ms/step - loss: 0.0227 - accuracy: 0.9730 - val_loss: 0.0225 - val_accuracy: 0.9726\n",
            "Epoch 19/100\n",
            "6250/6250 [==============================] - 100s 16ms/step - loss: 0.0224 - accuracy: 0.9734 - val_loss: 0.0228 - val_accuracy: 0.9724\n",
            "Epoch 20/100\n",
            "6250/6250 [==============================] - 99s 16ms/step - loss: 0.0219 - accuracy: 0.9741 - val_loss: 0.0233 - val_accuracy: 0.9719\n",
            "Epoch 21/100\n",
            "6250/6250 [==============================] - 98s 16ms/step - loss: 0.0216 - accuracy: 0.9744 - val_loss: 0.0214 - val_accuracy: 0.9743\n",
            "Epoch 22/100\n",
            "6250/6250 [==============================] - 102s 16ms/step - loss: 0.0212 - accuracy: 0.9750 - val_loss: 0.0218 - val_accuracy: 0.9746\n",
            "Epoch 23/100\n",
            "6250/6250 [==============================] - 100s 16ms/step - loss: 0.0211 - accuracy: 0.9749 - val_loss: 0.0210 - val_accuracy: 0.9748\n",
            "Epoch 24/100\n",
            "6250/6250 [==============================] - 100s 16ms/step - loss: 0.0208 - accuracy: 0.9753 - val_loss: 0.0227 - val_accuracy: 0.9728\n",
            "Epoch 25/100\n",
            "6250/6250 [==============================] - 100s 16ms/step - loss: 0.0206 - accuracy: 0.9756 - val_loss: 0.0211 - val_accuracy: 0.9746\n",
            "Epoch 26/100\n",
            "6250/6250 [==============================] - 101s 16ms/step - loss: 0.0204 - accuracy: 0.9759 - val_loss: 0.0218 - val_accuracy: 0.9738\n",
            "Epoch 27/100\n",
            "6250/6250 [==============================] - 102s 16ms/step - loss: 0.0201 - accuracy: 0.9761 - val_loss: 0.0230 - val_accuracy: 0.9722\n",
            "Epoch 28/100\n",
            "6250/6250 [==============================] - 97s 15ms/step - loss: 0.0202 - accuracy: 0.9761 - val_loss: 0.0210 - val_accuracy: 0.9750\n",
            "Epoch 29/100\n",
            "6250/6250 [==============================] - 99s 16ms/step - loss: 0.0199 - accuracy: 0.9766 - val_loss: 0.0206 - val_accuracy: 0.9756\n",
            "Epoch 30/100\n",
            "6250/6250 [==============================] - 99s 16ms/step - loss: 0.0198 - accuracy: 0.9764 - val_loss: 0.0218 - val_accuracy: 0.9744\n",
            "Epoch 31/100\n",
            "6250/6250 [==============================] - 99s 16ms/step - loss: 0.0197 - accuracy: 0.9765 - val_loss: 0.0205 - val_accuracy: 0.9751\n",
            "Epoch 32/100\n",
            "6250/6250 [==============================] - 97s 16ms/step - loss: 0.0194 - accuracy: 0.9768 - val_loss: 0.0200 - val_accuracy: 0.9761\n",
            "Epoch 33/100\n",
            "6250/6250 [==============================] - 99s 16ms/step - loss: 0.0193 - accuracy: 0.9771 - val_loss: 0.0204 - val_accuracy: 0.9753\n",
            "Epoch 34/100\n",
            "6250/6250 [==============================] - 102s 16ms/step - loss: 0.0193 - accuracy: 0.9772 - val_loss: 0.0201 - val_accuracy: 0.9755\n",
            "Epoch 35/100\n",
            "6250/6250 [==============================] - 101s 16ms/step - loss: 0.0191 - accuracy: 0.9773 - val_loss: 0.0196 - val_accuracy: 0.9764\n",
            "Epoch 36/100\n",
            "6250/6250 [==============================] - 105s 17ms/step - loss: 0.0191 - accuracy: 0.9775 - val_loss: 0.0197 - val_accuracy: 0.9759\n",
            "Epoch 37/100\n",
            "6250/6250 [==============================] - 100s 16ms/step - loss: 0.0190 - accuracy: 0.9776 - val_loss: 0.0204 - val_accuracy: 0.9760\n",
            "Epoch 38/100\n",
            "6250/6250 [==============================] - 101s 16ms/step - loss: 0.0188 - accuracy: 0.9776 - val_loss: 0.0193 - val_accuracy: 0.9767\n",
            "Epoch 39/100\n",
            "6250/6250 [==============================] - 106s 17ms/step - loss: 0.0188 - accuracy: 0.9776 - val_loss: 0.0197 - val_accuracy: 0.9765\n",
            "Epoch 40/100\n",
            "6250/6250 [==============================] - 101s 16ms/step - loss: 0.0188 - accuracy: 0.9777 - val_loss: 0.0194 - val_accuracy: 0.9765\n",
            "Epoch 41/100\n",
            "6250/6250 [==============================] - 100s 16ms/step - loss: 0.0186 - accuracy: 0.9778 - val_loss: 0.0211 - val_accuracy: 0.9750\n",
            "Epoch 42/100\n",
            "6250/6250 [==============================] - 100s 16ms/step - loss: 0.0186 - accuracy: 0.9779 - val_loss: 0.0200 - val_accuracy: 0.9764\n",
            "Epoch 43/100\n",
            "6250/6250 [==============================] - 99s 16ms/step - loss: 0.0184 - accuracy: 0.9782 - val_loss: 0.0195 - val_accuracy: 0.9765\n",
            "Epoch 44/100\n",
            "6250/6250 [==============================] - 101s 16ms/step - loss: 0.0184 - accuracy: 0.9781 - val_loss: 0.0189 - val_accuracy: 0.9775\n",
            "Epoch 45/100\n",
            "6250/6250 [==============================] - 105s 17ms/step - loss: 0.0184 - accuracy: 0.9782 - val_loss: 0.0200 - val_accuracy: 0.9763\n",
            "Epoch 46/100\n",
            "6250/6250 [==============================] - 100s 16ms/step - loss: 0.0182 - accuracy: 0.9784 - val_loss: 0.0238 - val_accuracy: 0.9722\n",
            "Epoch 47/100\n",
            "6250/6250 [==============================] - 102s 16ms/step - loss: 0.0181 - accuracy: 0.9786 - val_loss: 0.0192 - val_accuracy: 0.9766\n",
            "Epoch 48/100\n",
            "6250/6250 [==============================] - 102s 16ms/step - loss: 0.0182 - accuracy: 0.9784 - val_loss: 0.0200 - val_accuracy: 0.9762\n",
            "Epoch 49/100\n",
            "6250/6250 [==============================] - 99s 16ms/step - loss: 0.0181 - accuracy: 0.9785 - val_loss: 0.0191 - val_accuracy: 0.9770\n",
            "Epoch 50/100\n",
            "6250/6250 [==============================] - 99s 16ms/step - loss: 0.0179 - accuracy: 0.9787 - val_loss: 0.0189 - val_accuracy: 0.9774\n",
            "Epoch 51/100\n",
            "6250/6250 [==============================] - 102s 16ms/step - loss: 0.0180 - accuracy: 0.9787 - val_loss: 0.0186 - val_accuracy: 0.9775\n",
            "Epoch 52/100\n",
            "6250/6250 [==============================] - 98s 16ms/step - loss: 0.0177 - accuracy: 0.9789 - val_loss: 0.0198 - val_accuracy: 0.9757\n",
            "Epoch 53/100\n",
            "6250/6250 [==============================] - 101s 16ms/step - loss: 0.0178 - accuracy: 0.9788 - val_loss: 0.0191 - val_accuracy: 0.9772\n",
            "Epoch 54/100\n",
            "6250/6250 [==============================] - 102s 16ms/step - loss: 0.0179 - accuracy: 0.9788 - val_loss: 0.0199 - val_accuracy: 0.9757\n",
            "Epoch 55/100\n",
            "6250/6250 [==============================] - 99s 16ms/step - loss: 0.0177 - accuracy: 0.9790 - val_loss: 0.0184 - val_accuracy: 0.9779\n",
            "Epoch 56/100\n",
            "6250/6250 [==============================] - 98s 16ms/step - loss: 0.0175 - accuracy: 0.9791 - val_loss: 0.0195 - val_accuracy: 0.9763\n",
            "Epoch 57/100\n",
            "6250/6250 [==============================] - 101s 16ms/step - loss: 0.0175 - accuracy: 0.9793 - val_loss: 0.0186 - val_accuracy: 0.9771\n",
            "Epoch 58/100\n",
            "6250/6250 [==============================] - 102s 16ms/step - loss: 0.0174 - accuracy: 0.9793 - val_loss: 0.0183 - val_accuracy: 0.9779\n",
            "Epoch 59/100\n",
            "6250/6250 [==============================] - 101s 16ms/step - loss: 0.0174 - accuracy: 0.9792 - val_loss: 0.0182 - val_accuracy: 0.9779\n",
            "Epoch 60/100\n",
            "6250/6250 [==============================] - 102s 16ms/step - loss: 0.0174 - accuracy: 0.9793 - val_loss: 0.0202 - val_accuracy: 0.9754\n",
            "Epoch 61/100\n",
            "6250/6250 [==============================] - 101s 16ms/step - loss: 0.0173 - accuracy: 0.9793 - val_loss: 0.0188 - val_accuracy: 0.9777\n",
            "Epoch 62/100\n",
            "6250/6250 [==============================] - 102s 16ms/step - loss: 0.0173 - accuracy: 0.9793 - val_loss: 0.0185 - val_accuracy: 0.9776\n",
            "Epoch 63/100\n",
            "6250/6250 [==============================] - 102s 16ms/step - loss: 0.0173 - accuracy: 0.9791 - val_loss: 0.0184 - val_accuracy: 0.9774\n",
            "Epoch 64/100\n",
            "6250/6250 [==============================] - 100s 16ms/step - loss: 0.0172 - accuracy: 0.9795 - val_loss: 0.0185 - val_accuracy: 0.9778\n",
            "Epoch 65/100\n",
            "6250/6250 [==============================] - 101s 16ms/step - loss: 0.0170 - accuracy: 0.9798 - val_loss: 0.0181 - val_accuracy: 0.9784\n",
            "Epoch 66/100\n",
            "6250/6250 [==============================] - 102s 16ms/step - loss: 0.0171 - accuracy: 0.9796 - val_loss: 0.0182 - val_accuracy: 0.9783\n",
            "Epoch 67/100\n",
            "6250/6250 [==============================] - 102s 16ms/step - loss: 0.0170 - accuracy: 0.9798 - val_loss: 0.0179 - val_accuracy: 0.9786\n",
            "Epoch 68/100\n",
            "6250/6250 [==============================] - 99s 16ms/step - loss: 0.0171 - accuracy: 0.9796 - val_loss: 0.0184 - val_accuracy: 0.9780\n",
            "Epoch 69/100\n",
            "6250/6250 [==============================] - 100s 16ms/step - loss: 0.0168 - accuracy: 0.9800 - val_loss: 0.0185 - val_accuracy: 0.9781\n",
            "Epoch 70/100\n",
            "6250/6250 [==============================] - 101s 16ms/step - loss: 0.0169 - accuracy: 0.9796 - val_loss: 0.0178 - val_accuracy: 0.9786\n",
            "Epoch 71/100\n",
            "6250/6250 [==============================] - 101s 16ms/step - loss: 0.0167 - accuracy: 0.9801 - val_loss: 0.0189 - val_accuracy: 0.9766\n",
            "Epoch 72/100\n",
            "6250/6250 [==============================] - 102s 16ms/step - loss: 0.0167 - accuracy: 0.9801 - val_loss: 0.0177 - val_accuracy: 0.9786\n",
            "Epoch 73/100\n",
            "6250/6250 [==============================] - 99s 16ms/step - loss: 0.0167 - accuracy: 0.9801 - val_loss: 0.0179 - val_accuracy: 0.9783\n",
            "Epoch 74/100\n",
            "6250/6250 [==============================] - 99s 16ms/step - loss: 0.0167 - accuracy: 0.9802 - val_loss: 0.0177 - val_accuracy: 0.9786\n",
            "Epoch 75/100\n",
            "6250/6250 [==============================] - 101s 16ms/step - loss: 0.0165 - accuracy: 0.9803 - val_loss: 0.0189 - val_accuracy: 0.9779\n",
            "Epoch 76/100\n",
            "6250/6250 [==============================] - 99s 16ms/step - loss: 0.0165 - accuracy: 0.9803 - val_loss: 0.0178 - val_accuracy: 0.9787\n",
            "Epoch 77/100\n",
            "6250/6250 [==============================] - 101s 16ms/step - loss: 0.0165 - accuracy: 0.9804 - val_loss: 0.0181 - val_accuracy: 0.9783\n",
            "Epoch 78/100\n",
            "6250/6250 [==============================] - 103s 16ms/step - loss: 0.0164 - accuracy: 0.9804 - val_loss: 0.0184 - val_accuracy: 0.9781\n",
            "Epoch 79/100\n",
            "6250/6250 [==============================] - 103s 16ms/step - loss: 0.0164 - accuracy: 0.9806 - val_loss: 0.0180 - val_accuracy: 0.9783\n",
            "Epoch 80/100\n",
            "6250/6250 [==============================] - 103s 16ms/step - loss: 0.0165 - accuracy: 0.9805 - val_loss: 0.0182 - val_accuracy: 0.9779\n",
            "Epoch 81/100\n",
            "6250/6250 [==============================] - 104s 17ms/step - loss: 0.0162 - accuracy: 0.9806 - val_loss: 0.0174 - val_accuracy: 0.9789\n",
            "Epoch 82/100\n",
            "6250/6250 [==============================] - 102s 16ms/step - loss: 0.0164 - accuracy: 0.9806 - val_loss: 0.0177 - val_accuracy: 0.9787\n",
            "Epoch 83/100\n",
            "6250/6250 [==============================] - 103s 17ms/step - loss: 0.0162 - accuracy: 0.9808 - val_loss: 0.0174 - val_accuracy: 0.9789\n",
            "Epoch 84/100\n",
            "6250/6250 [==============================] - 107s 17ms/step - loss: 0.0162 - accuracy: 0.9807 - val_loss: 0.0174 - val_accuracy: 0.9789\n",
            "Epoch 85/100\n",
            "6250/6250 [==============================] - 102s 16ms/step - loss: 0.0161 - accuracy: 0.9809 - val_loss: 0.0176 - val_accuracy: 0.9787\n",
            "Epoch 86/100\n",
            "6250/6250 [==============================] - 104s 17ms/step - loss: 0.0162 - accuracy: 0.9806 - val_loss: 0.0173 - val_accuracy: 0.9793\n",
            "Epoch 87/100\n",
            "6250/6250 [==============================] - 104s 17ms/step - loss: 0.0161 - accuracy: 0.9809 - val_loss: 0.0179 - val_accuracy: 0.9786\n",
            "Epoch 88/100\n",
            "6250/6250 [==============================] - 101s 16ms/step - loss: 0.0160 - accuracy: 0.9810 - val_loss: 0.0199 - val_accuracy: 0.9757\n",
            "Epoch 89/100\n",
            "6250/6250 [==============================] - 104s 17ms/step - loss: 0.0162 - accuracy: 0.9808 - val_loss: 0.0169 - val_accuracy: 0.9795\n",
            "Epoch 90/100\n",
            "6250/6250 [==============================] - 102s 16ms/step - loss: 0.0160 - accuracy: 0.9810 - val_loss: 0.0181 - val_accuracy: 0.9780\n",
            "Epoch 91/100\n",
            "6250/6250 [==============================] - 100s 16ms/step - loss: 0.0159 - accuracy: 0.9810 - val_loss: 0.0176 - val_accuracy: 0.9785\n",
            "Epoch 92/100\n",
            "6250/6250 [==============================] - 101s 16ms/step - loss: 0.0159 - accuracy: 0.9809 - val_loss: 0.0169 - val_accuracy: 0.9796\n",
            "Epoch 93/100\n",
            "6250/6250 [==============================] - 103s 16ms/step - loss: 0.0159 - accuracy: 0.9812 - val_loss: 0.0175 - val_accuracy: 0.9788\n",
            "Epoch 94/100\n",
            "6250/6250 [==============================] - 102s 16ms/step - loss: 0.0158 - accuracy: 0.9812 - val_loss: 0.0179 - val_accuracy: 0.9785\n",
            "Epoch 95/100\n",
            "6250/6250 [==============================] - 104s 17ms/step - loss: 0.0158 - accuracy: 0.9813 - val_loss: 0.0170 - val_accuracy: 0.9798\n",
            "Epoch 96/100\n",
            "6250/6250 [==============================] - 101s 16ms/step - loss: 0.0158 - accuracy: 0.9813 - val_loss: 0.0172 - val_accuracy: 0.9792\n",
            "Epoch 97/100\n",
            "6250/6250 [==============================] - 103s 16ms/step - loss: 0.0157 - accuracy: 0.9812 - val_loss: 0.0167 - val_accuracy: 0.9799\n",
            "Epoch 98/100\n",
            "6250/6250 [==============================] - 102s 16ms/step - loss: 0.0157 - accuracy: 0.9814 - val_loss: 0.0167 - val_accuracy: 0.9798\n",
            "Epoch 99/100\n",
            "6250/6250 [==============================] - 103s 16ms/step - loss: 0.0158 - accuracy: 0.9812 - val_loss: 0.0176 - val_accuracy: 0.9793\n",
            "Epoch 100/100\n",
            "6250/6250 [==============================] - 101s 16ms/step - loss: 0.0155 - accuracy: 0.9815 - val_loss: 0.0170 - val_accuracy: 0.9792\n"
          ]
        }
      ],
      "source": [
        "history=model.fit(X_train, Y_train, epochs=100,validation_data=(X_test, Y_test))"
      ]
    },
    {
      "cell_type": "code",
      "execution_count": 30,
      "metadata": {
        "colab": {
          "base_uri": "https://localhost:8080/"
        },
        "id": "4MnzcQCIotDF",
        "outputId": "ce0dde50-3e27-4890-88fb-1b2845f82ae7"
      },
      "outputs": [
        {
          "name": "stdout",
          "output_type": "stream",
          "text": [
            "1563/1563 [==============================] - 13s 8ms/step - loss: 0.0170 - accuracy: 0.9792\n"
          ]
        }
      ],
      "source": [
        "test_loss,test_accuracy=model.evaluate(X_test,Y_test)"
      ]
    },
    {
      "cell_type": "code",
      "execution_count": 31,
      "metadata": {
        "colab": {
          "base_uri": "https://localhost:8080/"
        },
        "id": "Mf1MkU0JuPRO",
        "outputId": "3dd1372d-0981-40a5-b1ef-244930f969f4"
      },
      "outputs": [
        {
          "name": "stdout",
          "output_type": "stream",
          "text": [
            "INFO:tensorflow:Assets written to: /content/drive/MyDrive/dataset_attack/module5.tl/assets\n"
          ]
        },
        {
          "name": "stderr",
          "output_type": "stream",
          "text": [
            "WARNING:absl:<keras.layers.recurrent.LSTMCell object at 0x7f3f5e10cc50> has the same name 'LSTMCell' as a built-in Keras object. Consider renaming <class 'keras.layers.recurrent.LSTMCell'> to avoid naming conflicts when loading with `tf.keras.models.load_model`. If renaming is not possible, pass the object in the `custom_objects` parameter of the load function.\n",
            "WARNING:absl:<keras.layers.recurrent.LSTMCell object at 0x7f3f5dfae890> has the same name 'LSTMCell' as a built-in Keras object. Consider renaming <class 'keras.layers.recurrent.LSTMCell'> to avoid naming conflicts when loading with `tf.keras.models.load_model`. If renaming is not possible, pass the object in the `custom_objects` parameter of the load function.\n"
          ]
        }
      ],
      "source": [
        "model.save('/content/drive/MyDrive/dataset_attack/module5.tl')\n"
      ]
    },
    {
      "cell_type": "code",
      "execution_count": 32,
      "metadata": {
        "colab": {
          "base_uri": "https://localhost:8080/"
        },
        "id": "FfDcNoSbu2tp",
        "outputId": "91d515b1-4a08-408f-f3b4-89663cef0426"
      },
      "outputs": [
        {
          "name": "stdout",
          "output_type": "stream",
          "text": [
            "1563/1563 [==============================] - 10s 6ms/step\n"
          ]
        }
      ],
      "source": [
        "predict = model.predict(X_test, verbose=1)"
      ]
    },
    {
      "cell_type": "code",
      "execution_count": 34,
      "metadata": {
        "id": "9JBpQKc6u_Mp"
      },
      "outputs": [],
      "source": [
        "tp = 0\n",
        "tn = 0\n",
        "fp = 0\n",
        "fn = 0\n",
        "predictn = predict.flatten().round()\n",
        "predictn = predictn.tolist()\n",
        "Y_testn = Y_test.tolist()\n",
        "for i in range(len(Y_testn)):\n",
        "  if int(predictn[i])==1 and int(Y_testn[i][0])==1:\n",
        "    tp+=1\n",
        "  elif int(predictn[i])==0 and int(Y_testn[i][0])==0:\n",
        "    tn+=1\n",
        "  elif int(predictn[i])==0 and int(Y_testn[i][0])==1:\n",
        "    fp+=1\n",
        "  elif int(predictn[i])==1 and int(Y_testn[i][0])==0:\n",
        "    fn+=1"
      ]
    },
    {
      "cell_type": "code",
      "execution_count": 35,
      "metadata": {
        "colab": {
          "base_uri": "https://localhost:8080/",
          "height": 268
        },
        "id": "PUBqKA_jvHT8",
        "outputId": "57925650-9b89-4c55-d2d7-a178e8f69bc2"
      },
      "outputs": [
        {
          "data": {
            "image/png": "[encoded data removed]",
            "text/plain": [
              "<Figure size 432x288 with 2 Axes>"
            ]
          },
          "metadata": {
            "needs_background": "light"
          },
          "output_type": "display_data"
        }
      ],
      "source": [
        "to_heat_map =[[tn,fp],[fn,tp]]\n",
        "to_heat_map = pd.DataFrame(to_heat_map, index = [\"Attack\",\"Normal\"],columns = [\"Attack\",\"Normal\"])\n",
        "ax = sns.heatmap(to_heat_map,annot=True, fmt=\"d\")"
      ]
    },
    {
      "cell_type": "code",
      "execution_count": 36,
      "metadata": {
        "colab": {
          "base_uri": "https://localhost:8080/"
        },
        "id": "fWWI-j2xykj8",
        "outputId": "15c72e31-9138-4a0a-fce8-25116b2c7d94"
      },
      "outputs": [
        {
          "name": "stdout",
          "output_type": "stream",
          "text": [
            "accuracy: 97.92%\n"
          ]
        }
      ],
      "source": [
        "scores = model.evaluate(X_test, Y_test, verbose=0)\n",
        "print(\"%s: %.2f%%\" % (model.metrics_names[1], scores[1]*100))"
      ]
    },
    {
      "cell_type": "code",
      "execution_count": 37,
      "metadata": {
        "colab": {
          "base_uri": "https://localhost:8080/"
        },
        "id": "2WUFIJzS02vd",
        "outputId": "8f999755-4b2d-4f7e-eca2-59b412018651"
      },
      "outputs": [
        {
          "name": "stdout",
          "output_type": "stream",
          "text": [
            "dict_keys(['loss', 'accuracy', 'val_loss', 'val_accuracy'])\n"
          ]
        }
      ],
      "source": [
        "print(history.history.keys())"
      ]
    },
    {
      "cell_type": "code",
      "execution_count": 38,
      "metadata": {
        "colab": {
          "base_uri": "https://localhost:8080/",
          "height": 301
        },
        "id": "AORZUFCcyzoF",
        "outputId": "f34d2bda-ad3a-43f8-f966-b9f276e05fca"
      },
      "outputs": [
        {
          "data": {
            "image/png": "[encoded data removed]",
            "text/plain": [
              "<Figure size 432x288 with 1 Axes>"
            ]
          },
          "metadata": {
            "needs_background": "light"
          },
          "output_type": "display_data"
        }
      ],
      "source": [
        "# Plot training & validation accuracy values\n",
        "plt.plot(history.history['accuracy'])\n",
        "plt.plot(history.history['val_accuracy'])\n",
        "plt.title('BRNN Model Accuracy')\n",
        "plt.ylabel('Accuracy')\n",
        "plt.xlabel('Epoch')\n",
        "plt.legend(['Train', 'Test'], loc='lower right')\n",
        "plt.savefig('BRNN Model Accuracy.png')\n",
        "plt.show()"
      ]
    },
    {
      "cell_type": "code",
      "execution_count": 39,
      "metadata": {
        "colab": {
          "base_uri": "https://localhost:8080/",
          "height": 301
        },
        "id": "NJ-pt29r_pXv",
        "outputId": "233bf20b-4e85-4deb-a590-8c639b334a5d"
      },
      "outputs": [
        {
          "data": {
            "image/png": "[encoded data removed]",
            "text/plain": [
              "<Figure size 432x288 with 1 Axes>"
            ]
          },
          "metadata": {
            "needs_background": "light"
          },
          "output_type": "display_data"
        }
      ],
      "source": [
        "# Plot training & validation loss values\n",
        "plt.plot(history.history['loss'])\n",
        "plt.plot(history.history['val_loss'])\n",
        "plt.title('BRNN Model  Loss')\n",
        "plt.ylabel('Loss')\n",
        "plt.xlabel('Epoch')\n",
        "plt.legend(['Train', 'Test'], loc='upper left')\n",
        "plt.savefig('BRNN Model Loss.png')\n",
        "plt.show()"
      ]
    }
  ],
  "metadata": {
    "colab": {
      "collapsed_sections": [],
      "name": "Untitled10.ipynb",
      "provenance": []
    },
    "kernelspec": {
      "display_name": "Python 3",
      "name": "python3"
    },
    "language_info": {
      "name": "python"
    }
  },
  "nbformat": 4,
  "nbformat_minor": 0
}
