{
  "nbformat": 4,
  "nbformat_minor": 0,
  "metadata": {
    "colab": {
      "name": "Untitled10.ipynb",
      "provenance": [],
      "collapsed_sections": []
    },
    "kernelspec": {
      "name": "python3",
      "display_name": "Python 3"
    },
    "language_info": {
      "name": "python"
    }
  },
  "cells": [
    {
      "cell_type": "code",
      "execution_count": 41,
      "metadata": {
        "id": "RL8cpI9FPXYK"
      },
      "outputs": [],
      "source": [
        "import numpy as np\n",
        "import pandas as pd\n",
        "import matplotlib.pyplot as plt\n",
        "\n",
        "import seaborn as sns; sns.set()\n",
        "from keras.models import Sequential, load_model\n",
        "from keras.layers import Dense, LSTM, Bidirectional\n",
        "\n",
        "from keras.utils.vis_utils import plot_model\n",
        "from keras.utils.np_utils import to_categorical\n",
        "from keras.utils import np_utils\n",
        "\n",
        "from sklearn.model_selection import train_test_split\n",
        "from sklearn.preprocessing import LabelEncoder, StandardScaler\n",
        "from sklearn.metrics import confusion_matrix"
      ]
    },
    {
      "cell_type": "code",
      "source": [
        "from google.colab import drive\n",
        "drive.mount('/content/drive')"
      ],
      "metadata": {
        "colab": {
          "base_uri": "https://localhost:8080/"
        },
        "id": "-UAJ2cRtPZUM",
        "outputId": "71eb8eab-cc95-4da1-aac6-f1f003336ee7"
      },
      "execution_count": 42,
      "outputs": [
        {
          "output_type": "stream",
          "name": "stdout",
          "text": [
            "Drive already mounted at /content/drive; to attempt to forcibly remount, call drive.mount(\"/content/drive\", force_remount=True).\n"
          ]
        }
      ]
    },
    {
      "cell_type": "code",
      "source": [
        "number_of_samples = 2500000"
      ],
      "metadata": {
        "id": "rW6ph4TvP_Ek"
      },
      "execution_count": 43,
      "outputs": []
    },
    {
      "cell_type": "code",
      "source": [
        "data_attack = pd.read_csv('/content/drive/MyDrive/dataset_attack.csv', nrows = number_of_samples)"
      ],
      "metadata": {
        "id": "j3iq7U_MQCTU"
      },
      "execution_count": 73,
      "outputs": []
    },
    {
      "cell_type": "code",
      "source": [
        "data_normal = pd.read_csv('/content/drive/MyDrive/dataset_normal.csv', nrows = number_of_samples)"
      ],
      "metadata": {
        "id": "7PCWUWQtQFLk"
      },
      "execution_count": 74,
      "outputs": []
    },
    {
      "cell_type": "code",
      "source": [
        "data_normal.columns=[ 'frame.len', 'frame.protocols', 'ip.hdr_len',\n",
        "       'ip.len', 'ip.flags.rb', 'ip.flags.df', 'p.flags.mf', 'ip.frag_offset',\n",
        "       'ip.ttl', 'ip.proto', 'ip.src', 'ip.dst', 'tcp.srcport', 'tcp.dstport',\n",
        "       'tcp.len', 'tcp.ack', 'tcp.flags.res', 'tcp.flags.ns', 'tcp.flags.cwr',\n",
        "       'tcp.flags.ecn', 'tcp.flags.urg', 'tcp.flags.ack', 'tcp.flags.push',\n",
        "       'tcp.flags.reset', 'tcp.flags.syn', 'tcp.flags.fin', 'tcp.window_size',\n",
        "       'tcp.time_delta','class']\n",
        "data_attack.columns=[ 'frame.len', 'frame.protocols', 'ip.hdr_len',\n",
        "       'ip.len', 'ip.flags.rb', 'ip.flags.df', 'p.flags.mf', 'ip.frag_offset',\n",
        "       'ip.ttl', 'ip.proto', 'ip.src', 'ip.dst', 'tcp.srcport', 'tcp.dstport',\n",
        "       'tcp.len', 'tcp.ack', 'tcp.flags.res', 'tcp.flags.ns', 'tcp.flags.cwr',\n",
        "       'tcp.flags.ecn', 'tcp.flags.urg', 'tcp.flags.ack', 'tcp.flags.push',\n",
        "       'tcp.flags.reset', 'tcp.flags.syn', 'tcp.flags.fin', 'tcp.window_size',\n",
        "       'tcp.time_delta','class']"
      ],
      "metadata": {
        "id": "eiRoBd7IQI7G"
      },
      "execution_count": 75,
      "outputs": []
    },
    {
      "cell_type": "code",
      "source": [
        "data_normal=data_normal.drop(['ip.src', 'ip.dst','frame.protocols'],axis=1)\n",
        "data_attack=data_attack.drop(['ip.src', 'ip.dst','frame.protocols'],axis=1)"
      ],
      "metadata": {
        "id": "9LkfwNybQPKO"
      },
      "execution_count": 76,
      "outputs": []
    },
    {
      "cell_type": "code",
      "source": [
        "import pandas as pd\n",
        "import seaborn as sn\n",
        "import matplotlib.pyplot as plt"
      ],
      "metadata": {
        "id": "qmR8xWrhQSe6"
      },
      "execution_count": 77,
      "outputs": []
    },
    {
      "cell_type": "code",
      "source": [
        "features=[ 'frame.len', 'ip.hdr_len',\n",
        "       'ip.len', 'ip.flags.rb', 'ip.flags.df', 'p.flags.mf', 'ip.frag_offset',\n",
        "       'ip.ttl', 'ip.proto', 'tcp.srcport', 'tcp.dstport',\n",
        "       'tcp.len', 'tcp.ack', 'tcp.flags.res', 'tcp.flags.ns', 'tcp.flags.cwr',\n",
        "       'tcp.flags.ecn', 'tcp.flags.urg', 'tcp.flags.ack', 'tcp.flags.push',\n",
        "       'tcp.flags.reset', 'tcp.flags.syn', 'tcp.flags.fin', 'tcp.window_size',\n",
        "       'tcp.time_delta']"
      ],
      "metadata": {
        "id": "3ZP34h7jQVlB"
      },
      "execution_count": 78,
      "outputs": []
    },
    {
      "cell_type": "code",
      "source": [
        "X_normal= data_normal[features].values\n",
        "X_attack= data_attack[features].values\n",
        "Y_normal= data_normal['class']\n",
        "Y_attack= data_attack['class']\n",
        "X=np.concatenate((X_normal,X_attack))\n",
        "Y=np.concatenate((Y_normal,Y_attack))"
      ],
      "metadata": {
        "id": "W9BJI9o4QaIl"
      },
      "execution_count": 79,
      "outputs": []
    },
    {
      "cell_type": "code",
      "source": [
        "from sklearn import preprocessing\n",
        "\n",
        "min_max_scaler = preprocessing.MinMaxScaler()\n",
        "\n",
        "x = min_max_scaler.fit_transform(X)\n"
      ],
      "metadata": {
        "id": "FwoFXcvBQcmy"
      },
      "execution_count": 80,
      "outputs": []
    },
    {
      "cell_type": "code",
      "source": [
        "x.shape"
      ],
      "metadata": {
        "colab": {
          "base_uri": "https://localhost:8080/"
        },
        "id": "Kkyyf0_jQ-Ee",
        "outputId": "42429b72-92e8-4250-f4b1-bc8aeb1e2f17"
      },
      "execution_count": 81,
      "outputs": [
        {
          "output_type": "execute_result",
          "data": {
            "text/plain": [
              "(5000000, 25)"
            ]
          },
          "metadata": {},
          "execution_count": 81
        }
      ]
    },
    {
      "cell_type": "code",
      "source": [
        "X=np.reshape(x, (100000, 1250))"
      ],
      "metadata": {
        "id": "q3rOO3PVQjG5"
      },
      "execution_count": 82,
      "outputs": []
    },
    {
      "cell_type": "code",
      "source": [
        "X.shape"
      ],
      "metadata": {
        "colab": {
          "base_uri": "https://localhost:8080/"
        },
        "id": "U3VWFPaTReZG",
        "outputId": "1242fc4c-46d2-45aa-eacd-ffc02811956f"
      },
      "execution_count": 83,
      "outputs": [
        {
          "output_type": "execute_result",
          "data": {
            "text/plain": [
              "(100000, 1250)"
            ]
          },
          "metadata": {},
          "execution_count": 83
        }
      ]
    },
    {
      "cell_type": "code",
      "source": [
        "for i in range(0,len(Y)):\n",
        "  if Y[i]==\"attack\":\n",
        "    Y[i]=1\n",
        "  else:\n",
        "    Y[i]=0"
      ],
      "metadata": {
        "id": "JB5Iu_kNRLnm"
      },
      "execution_count": 84,
      "outputs": []
    },
    {
      "cell_type": "code",
      "source": [
        "my_array = np.array(Y)"
      ],
      "metadata": {
        "id": "WnRDAM8GTlvO"
      },
      "execution_count": 85,
      "outputs": []
    },
    {
      "cell_type": "code",
      "source": [
        "my_array.shape"
      ],
      "metadata": {
        "colab": {
          "base_uri": "https://localhost:8080/"
        },
        "id": "w5y8ig6NTtkS",
        "outputId": "06984aa7-00cd-42e0-f698-7f491be071f8"
      },
      "execution_count": 86,
      "outputs": [
        {
          "output_type": "execute_result",
          "data": {
            "text/plain": [
              "(5000000,)"
            ]
          },
          "metadata": {},
          "execution_count": 86
        }
      ]
    },
    {
      "cell_type": "code",
      "source": [
        "y_n=np.reshape(my_array, (100000,50))"
      ],
      "metadata": {
        "id": "3AceaOwTTzU3"
      },
      "execution_count": 87,
      "outputs": []
    },
    {
      "cell_type": "code",
      "source": [
        "y_n.shape"
      ],
      "metadata": {
        "colab": {
          "base_uri": "https://localhost:8080/"
        },
        "id": "6X8_2we7V1YE",
        "outputId": "c5086244-8a29-45b1-b0f9-667c579734f3"
      },
      "execution_count": 88,
      "outputs": [
        {
          "output_type": "execute_result",
          "data": {
            "text/plain": [
              "(100000, 50)"
            ]
          },
          "metadata": {},
          "execution_count": 88
        }
      ]
    },
    {
      "cell_type": "code",
      "source": [
        "import numpy as np\n",
        "l_n = y_n.tolist()"
      ],
      "metadata": {
        "id": "7WRZsNX0Uevh"
      },
      "execution_count": 89,
      "outputs": []
    },
    {
      "cell_type": "code",
      "source": [
        "len(l_n)"
      ],
      "metadata": {
        "colab": {
          "base_uri": "https://localhost:8080/"
        },
        "id": "mnrZ7T0qVrIR",
        "outputId": "ac03ae78-dd51-422c-cf23-f75c395a513b"
      },
      "execution_count": 90,
      "outputs": [
        {
          "output_type": "execute_result",
          "data": {
            "text/plain": [
              "100000"
            ]
          },
          "metadata": {},
          "execution_count": 90
        }
      ]
    },
    {
      "cell_type": "code",
      "source": [
        "y_ll=[]\n",
        "for i in range(0,len(l_n)):\n",
        "  s=sum(l_n[i])\n",
        "  if s>25:\n",
        "    y_ll.append(1)\n",
        "  else:\n",
        "    y_ll.append(0)"
      ],
      "metadata": {
        "id": "irf4Zg1BS7MM"
      },
      "execution_count": 91,
      "outputs": []
    },
    {
      "cell_type": "code",
      "source": [
        "y_all = np.array(y_ll)"
      ],
      "metadata": {
        "id": "j-K1Zd2SWtBD"
      },
      "execution_count": 92,
      "outputs": []
    },
    {
      "cell_type": "code",
      "source": [
        "X_train, X_test, Y_train, Y_test = train_test_split(X, y_all, test_size = 0.20)"
      ],
      "metadata": {
        "id": "dtqY11CTXKm5"
      },
      "execution_count": 93,
      "outputs": []
    },
    {
      "cell_type": "code",
      "source": [
        "print(X_train.shape)\n",
        "print(X_test.shape)\n",
        "print(Y_train.shape)\n",
        "print(Y_test.shape)"
      ],
      "metadata": {
        "colab": {
          "base_uri": "https://localhost:8080/"
        },
        "id": "-tqwtL6nmpsL",
        "outputId": "fd61d720-41b5-4661-bdbf-10cd4397f80b"
      },
      "execution_count": 94,
      "outputs": [
        {
          "output_type": "stream",
          "name": "stdout",
          "text": [
            "(80000, 1250)\n",
            "(20000, 1250)\n",
            "(80000,)\n",
            "(20000,)\n"
          ]
        }
      ]
    },
    {
      "cell_type": "code",
      "source": [
        "X_train=np.reshape(X_train, (80000, 25, 50))\n",
        "X_test =np.reshape(X_test, (20000, 25, 50))\n",
        "Y_train=np.reshape(Y_train, (80000,1))\n",
        "Y_test =np.reshape(Y_test, (20000,1))"
      ],
      "metadata": {
        "id": "9RDV9pfXl4bT"
      },
      "execution_count": 95,
      "outputs": []
    },
    {
      "cell_type": "code",
      "source": [
        "def create_baseline():\n",
        "    model = Sequential()\n",
        "    model.add(LSTM(16, activation='relu', return_sequences=True, input_shape=(25, 50)))\n",
        "    model.add(LSTM(16, activation='relu'))\n",
        "    model.add(Dense(8))\n",
        "    model.add(Dense(1))\n",
        "    model.compile(optimizer='adam', loss='mse', metrics = ['accuracy'])\n",
        "    \n",
        "    return model"
      ],
      "metadata": {
        "id": "NcT1aqBEXWEG"
      },
      "execution_count": 115,
      "outputs": []
    },
    {
      "cell_type": "code",
      "source": [
        "model = create_baseline()"
      ],
      "metadata": {
        "id": "K8OePGZzXZnx"
      },
      "execution_count": 116,
      "outputs": []
    },
    {
      "cell_type": "code",
      "source": [
        "history=model.fit(X_train, Y_train, epochs=30,validation_data=(X_test, Y_test))"
      ],
      "metadata": {
        "colab": {
          "base_uri": "https://localhost:8080/"
        },
        "id": "kVv1fG4XXkxn",
        "outputId": "aeda766a-cadb-4090-f55a-60faf4dfbe5e"
      },
      "execution_count": 117,
      "outputs": [
        {
          "output_type": "stream",
          "name": "stdout",
          "text": [
            "Epoch 1/30\n",
            "2500/2500 [==============================] - 47s 18ms/step - loss: 0.0457 - accuracy: 0.9431 - val_loss: 0.0264 - val_accuracy: 0.9664\n",
            "Epoch 2/30\n",
            "2500/2500 [==============================] - 48s 19ms/step - loss: 0.0213 - accuracy: 0.9740 - val_loss: 0.0191 - val_accuracy: 0.9770\n",
            "Epoch 3/30\n",
            "2500/2500 [==============================] - 46s 18ms/step - loss: 0.0166 - accuracy: 0.9800 - val_loss: 0.0185 - val_accuracy: 0.9777\n",
            "Epoch 4/30\n",
            "2500/2500 [==============================] - 47s 19ms/step - loss: 0.0135 - accuracy: 0.9837 - val_loss: 0.0135 - val_accuracy: 0.9836\n",
            "Epoch 5/30\n",
            "2500/2500 [==============================] - 46s 18ms/step - loss: 0.0120 - accuracy: 0.9859 - val_loss: 0.0117 - val_accuracy: 0.9861\n",
            "Epoch 6/30\n",
            "2500/2500 [==============================] - 45s 18ms/step - loss: 0.0109 - accuracy: 0.9870 - val_loss: 0.0113 - val_accuracy: 0.9859\n",
            "Epoch 7/30\n",
            "2500/2500 [==============================] - 44s 18ms/step - loss: 0.0104 - accuracy: 0.9878 - val_loss: 0.0128 - val_accuracy: 0.9845\n",
            "Epoch 8/30\n",
            "2500/2500 [==============================] - 45s 18ms/step - loss: 0.0099 - accuracy: 0.9882 - val_loss: 0.0112 - val_accuracy: 0.9869\n",
            "Epoch 9/30\n",
            "2500/2500 [==============================] - 44s 17ms/step - loss: 0.0093 - accuracy: 0.9891 - val_loss: 0.0107 - val_accuracy: 0.9874\n",
            "Epoch 10/30\n",
            "2500/2500 [==============================] - 47s 19ms/step - loss: 0.0092 - accuracy: 0.9891 - val_loss: 0.0109 - val_accuracy: 0.9869\n",
            "Epoch 11/30\n",
            "2500/2500 [==============================] - 47s 19ms/step - loss: 0.0089 - accuracy: 0.9893 - val_loss: 0.0095 - val_accuracy: 0.9887\n",
            "Epoch 12/30\n",
            "2500/2500 [==============================] - 43s 17ms/step - loss: 0.0085 - accuracy: 0.9902 - val_loss: 0.0103 - val_accuracy: 0.9877\n",
            "Epoch 13/30\n",
            "2500/2500 [==============================] - 43s 17ms/step - loss: 0.0083 - accuracy: 0.9903 - val_loss: 0.0124 - val_accuracy: 0.9856\n",
            "Epoch 14/30\n",
            "2500/2500 [==============================] - 44s 18ms/step - loss: 0.0082 - accuracy: 0.9906 - val_loss: 0.0099 - val_accuracy: 0.9886\n",
            "Epoch 15/30\n",
            "2500/2500 [==============================] - 46s 18ms/step - loss: 0.0079 - accuracy: 0.9907 - val_loss: 0.0097 - val_accuracy: 0.9884\n",
            "Epoch 16/30\n",
            "2500/2500 [==============================] - 45s 18ms/step - loss: 0.0079 - accuracy: 0.9909 - val_loss: 0.0106 - val_accuracy: 0.9877\n",
            "Epoch 17/30\n",
            "2500/2500 [==============================] - 48s 19ms/step - loss: 0.0076 - accuracy: 0.9912 - val_loss: 0.0099 - val_accuracy: 0.9887\n",
            "Epoch 18/30\n",
            "2500/2500 [==============================] - 46s 18ms/step - loss: 0.0075 - accuracy: 0.9912 - val_loss: 0.0090 - val_accuracy: 0.9887\n",
            "Epoch 19/30\n",
            "2500/2500 [==============================] - 45s 18ms/step - loss: 0.0073 - accuracy: 0.9915 - val_loss: 0.0095 - val_accuracy: 0.9883\n",
            "Epoch 20/30\n",
            "2500/2500 [==============================] - 45s 18ms/step - loss: 0.0073 - accuracy: 0.9914 - val_loss: 0.0110 - val_accuracy: 0.9873\n",
            "Epoch 21/30\n",
            "2500/2500 [==============================] - 45s 18ms/step - loss: 0.0070 - accuracy: 0.9920 - val_loss: 0.0096 - val_accuracy: 0.9883\n",
            "Epoch 22/30\n",
            "2500/2500 [==============================] - 46s 18ms/step - loss: 0.0070 - accuracy: 0.9918 - val_loss: 0.0089 - val_accuracy: 0.9892\n",
            "Epoch 23/30\n",
            "2500/2500 [==============================] - 47s 19ms/step - loss: 0.0069 - accuracy: 0.9920 - val_loss: 0.0087 - val_accuracy: 0.9897\n",
            "Epoch 24/30\n",
            "2500/2500 [==============================] - 47s 19ms/step - loss: 0.0068 - accuracy: 0.9921 - val_loss: 0.0084 - val_accuracy: 0.9899\n",
            "Epoch 25/30\n",
            "2500/2500 [==============================] - 45s 18ms/step - loss: 0.0068 - accuracy: 0.9921 - val_loss: 0.0085 - val_accuracy: 0.9900\n",
            "Epoch 26/30\n",
            "2500/2500 [==============================] - 45s 18ms/step - loss: 0.0066 - accuracy: 0.9924 - val_loss: 0.0089 - val_accuracy: 0.9895\n",
            "Epoch 27/30\n",
            "2500/2500 [==============================] - 44s 17ms/step - loss: 0.0066 - accuracy: 0.9924 - val_loss: 0.0079 - val_accuracy: 0.9908\n",
            "Epoch 28/30\n",
            "2500/2500 [==============================] - 44s 18ms/step - loss: 0.0064 - accuracy: 0.9927 - val_loss: 0.0083 - val_accuracy: 0.9903\n",
            "Epoch 29/30\n",
            "2500/2500 [==============================] - 46s 18ms/step - loss: 0.0062 - accuracy: 0.9928 - val_loss: 0.0089 - val_accuracy: 0.9890\n",
            "Epoch 30/30\n",
            "2500/2500 [==============================] - 45s 18ms/step - loss: 0.0061 - accuracy: 0.9930 - val_loss: 0.0080 - val_accuracy: 0.9902\n"
          ]
        }
      ]
    },
    {
      "cell_type": "code",
      "source": [
        "test_loss,test_accuracy=model.evaluate(X_test,Y_test)"
      ],
      "metadata": {
        "colab": {
          "base_uri": "https://localhost:8080/"
        },
        "id": "4MnzcQCIotDF",
        "outputId": "6fb72040-7f81-4a11-f89f-c17d5f9f7336"
      },
      "execution_count": 118,
      "outputs": [
        {
          "output_type": "stream",
          "name": "stdout",
          "text": [
            "625/625 [==============================] - 4s 7ms/step - loss: 0.0080 - accuracy: 0.9902\n"
          ]
        }
      ]
    },
    {
      "cell_type": "code",
      "source": [
        "model.save('/content/drive/MyDrive/dataset_attack/module7.tl')\n"
      ],
      "metadata": {
        "colab": {
          "base_uri": "https://localhost:8080/"
        },
        "id": "Mf1MkU0JuPRO",
        "outputId": "cde352c4-44e2-4ca8-de88-37b7373e50e5"
      },
      "execution_count": 119,
      "outputs": [
        {
          "output_type": "stream",
          "name": "stdout",
          "text": [
            "INFO:tensorflow:Assets written to: /content/drive/MyDrive/dataset_attack/module7.tl/assets\n"
          ]
        },
        {
          "output_type": "stream",
          "name": "stderr",
          "text": [
            "INFO:tensorflow:Assets written to: /content/drive/MyDrive/dataset_attack/module7.tl/assets\n",
            "WARNING:absl:<keras.layers.recurrent.LSTMCell object at 0x7f3f458b65d0> has the same name 'LSTMCell' as a built-in Keras object. Consider renaming <class 'keras.layers.recurrent.LSTMCell'> to avoid naming conflicts when loading with `tf.keras.models.load_model`. If renaming is not possible, pass the object in the `custom_objects` parameter of the load function.\n",
            "WARNING:absl:<keras.layers.recurrent.LSTMCell object at 0x7f3f45818790> has the same name 'LSTMCell' as a built-in Keras object. Consider renaming <class 'keras.layers.recurrent.LSTMCell'> to avoid naming conflicts when loading with `tf.keras.models.load_model`. If renaming is not possible, pass the object in the `custom_objects` parameter of the load function.\n"
          ]
        }
      ]
    },
    {
      "cell_type": "code",
      "source": [
        "predict = model.predict(X_test, verbose=1)"
      ],
      "metadata": {
        "colab": {
          "base_uri": "https://localhost:8080/"
        },
        "id": "FfDcNoSbu2tp",
        "outputId": "6801e309-3cef-44cf-815f-74674cbfd558"
      },
      "execution_count": 120,
      "outputs": [
        {
          "output_type": "stream",
          "name": "stdout",
          "text": [
            "625/625 [==============================] - 5s 7ms/step\n"
          ]
        }
      ]
    },
    {
      "cell_type": "code",
      "source": [
        "tp = 0\n",
        "tn = 0\n",
        "fp = 0\n",
        "fn = 0\n",
        "predictn = predict.flatten().round()\n",
        "predictn = predictn.tolist()\n",
        "Y_testn = Y_test.tolist()\n",
        "for i in range(len(Y_testn)):\n",
        "  if int(predictn[i])==1 and int(Y_testn[i][0])==1:\n",
        "    tp+=1\n",
        "  elif int(predictn[i])==0 and int(Y_testn[i][0])==0:\n",
        "    tn+=1\n",
        "  elif int(predictn[i])==0 and int(Y_testn[i][0])==1:\n",
        "    fp+=1\n",
        "  elif int(predictn[i])==1 and int(Y_testn[i][0])==0:\n",
        "    fn+=1"
      ],
      "metadata": {
        "id": "9JBpQKc6u_Mp"
      },
      "execution_count": 121,
      "outputs": []
    },
    {
      "cell_type": "code",
      "source": [
        "to_heat_map =[[tn,fp],[fn,tp]]\n",
        "to_heat_map = pd.DataFrame(to_heat_map, index = [\"Attack\",\"Normal\"],columns = [\"Attack\",\"Normal\"])\n",
        "ax = sns.heatmap(to_heat_map,annot=True, fmt=\"d\")"
      ],
      "metadata": {
        "colab": {
          "base_uri": "https://localhost:8080/",
          "height": 272
        },
        "id": "PUBqKA_jvHT8",
        "outputId": "b478f49c-177a-4a66-fc21-a21ffa2d4f02"
      },
      "execution_count": 122,
      "outputs": [
        {
          "output_type": "display_data",
          "data": {
            "text/plain": [
              "<Figure size 432x288 with 2 Axes>"
            ],
            "image/png": "[encoded data removed]"
          },
          "metadata": {}
        }
      ]
    },
    {
      "cell_type": "code",
      "source": [
        "scores = model.evaluate(X_test, Y_test, verbose=0)\n",
        "print(\"%s: %.2f%%\" % (model.metrics_names[1], scores[1]*100))"
      ],
      "metadata": {
        "colab": {
          "base_uri": "https://localhost:8080/"
        },
        "id": "fWWI-j2xykj8",
        "outputId": "c6b05ce1-aa80-43ac-e81c-5a2de592cd13"
      },
      "execution_count": 123,
      "outputs": [
        {
          "output_type": "stream",
          "name": "stdout",
          "text": [
            "accuracy: 99.02%\n"
          ]
        }
      ]
    },
    {
      "cell_type": "code",
      "source": [
        "print(history.history.keys())"
      ],
      "metadata": {
        "colab": {
          "base_uri": "https://localhost:8080/"
        },
        "id": "2WUFIJzS02vd",
        "outputId": "a502be4e-4bd4-4876-b86f-0cb693c1d08f"
      },
      "execution_count": 124,
      "outputs": [
        {
          "output_type": "stream",
          "name": "stdout",
          "text": [
            "dict_keys(['loss', 'accuracy', 'val_loss', 'val_accuracy'])\n"
          ]
        }
      ]
    },
    {
      "cell_type": "code",
      "source": [
        "# Plot training & validation accuracy values\n",
        "plt.plot(history.history['accuracy'])\n",
        "plt.plot(history.history['val_accuracy'])\n",
        "plt.title('BRNN Model Accuracy')\n",
        "plt.ylabel('Accuracy')\n",
        "plt.xlabel('Epoch')\n",
        "plt.legend(['Train', 'Test'], loc='lower right')\n",
        "plt.savefig('BRNN Model Accuracy.png')\n",
        "plt.show()"
      ],
      "metadata": {
        "colab": {
          "base_uri": "https://localhost:8080/",
          "height": 301
        },
        "id": "AORZUFCcyzoF",
        "outputId": "1dd1611f-0884-4924-b7ca-2778214c018a"
      },
      "execution_count": 125,
      "outputs": [
        {
          "output_type": "display_data",
          "data": {
            "text/plain": [
              "<Figure size 432x288 with 1 Axes>"
            ],
            "image/png": "[encoded data removed]"
          },
          "metadata": {}
        }
      ]
    },
    {
      "cell_type": "code",
      "source": [
        "# Plot training & validation loss values\n",
        "plt.plot(history.history['loss'])\n",
        "plt.plot(history.history['val_loss'])\n",
        "plt.title('BRNN Model  Loss')\n",
        "plt.ylabel('Loss')\n",
        "plt.xlabel('Epoch')\n",
        "plt.legend(['Train', 'Test'], loc='upper left')\n",
        "plt.savefig('BRNN Model Loss.png')\n",
        "plt.show()"
      ],
      "metadata": {
        "colab": {
          "base_uri": "https://localhost:8080/",
          "height": 301
        },
        "id": "NJ-pt29r_pXv",
        "outputId": "d3007aa7-b00b-4bba-e5f9-5c47d832db06"
      },
      "execution_count": 126,
      "outputs": [
        {
          "output_type": "display_data",
          "data": {
            "text/plain": [
              "<Figure size 432x288 with 1 Axes>"
            ],
            "image/png": "[encoded data removed]"
          },
          "metadata": {}
        }
      ]
    }
  ]
}