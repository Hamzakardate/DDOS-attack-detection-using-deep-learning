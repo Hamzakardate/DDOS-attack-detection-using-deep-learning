{
  "nbformat": 4,
  "nbformat_minor": 0,
  "metadata": {
    "colab": {
      "name": "Untitled7.ipynb",
      "provenance": [],
      "collapsed_sections": []
    },
    "kernelspec": {
      "name": "python3",
      "display_name": "Python 3"
    },
    "language_info": {
      "name": "python"
    }
  },
  "cells": [
    {
      "cell_type": "code",
      "execution_count": null,
      "metadata": {
        "id": "AocXua9lqVUC"
      },
      "outputs": [],
      "source": [
        "import numpy as np\n",
        "import pandas as pd\n",
        "import matplotlib.pyplot as plt\n",
        "\n",
        "import seaborn as sns; sns.set()\n",
        "from keras.models import Sequential, load_model\n",
        "from keras.layers import Dense, LSTM, Bidirectional\n",
        "\n",
        "from keras.utils.vis_utils import plot_model\n",
        "from keras.utils.np_utils import to_categorical\n",
        "from keras.utils import np_utils\n",
        "\n",
        "from sklearn.model_selection import train_test_split\n",
        "from sklearn.preprocessing import LabelEncoder, StandardScaler\n",
        "from sklearn.metrics import confusion_matrix\n",
        "import statsmodels as sm\n",
        "from sklearn import svm\n",
        "import string\n",
        "import re\n",
        "import sys\n",
        "from sklearn.ensemble import AdaBoostClassifier\n",
        "from sklearn.ensemble import GradientBoostingClassifier\n",
        "from sklearn.svm import SVC\n",
        "#Import scikit-learn metrics module for accuracy calculation\n",
        "from sklearn import metrics\n",
        "# Import tools needed for visualization\n",
        "from sklearn.tree import export_graphviz\n",
        "import pydot\n",
        "from sklearn.linear_model import LogisticRegression\n",
        "from sklearn.ensemble import RandomForestRegressor\n",
        "from sklearn.preprocessing import StandardScaler\n",
        "from sklearn.svm import SVC\n",
        "from sklearn.ensemble import RandomForestClassifier,AdaBoostClassifier,GradientBoostingClassifier\n",
        "from mlxtend.frequent_patterns import apriori\n",
        "from mlxtend.frequent_patterns import association_rules\n",
        "from sklearn.metrics import classification_report, accuracy_score, confusion_matrix\n",
        "from sklearn.model_selection import train_test_split,KFold,cross_val_score,KFold\n",
        "from sklearn.model_selection import train_test_split\n",
        "from sklearn.preprocessing import StandardScaler\n",
        "from sklearn.metrics import roc_auc_score\n",
        "from sklearn.metrics import roc_curve, auc\n",
        "from imblearn.metrics import classification_report_imbalanced\n",
        "from sklearn.model_selection import GridSearchCV\n",
        "np.random.seed(0)\n",
        "\n",
        "from imblearn.over_sampling import RandomOverSampler\n",
        "from imblearn.under_sampling import RandomUnderSampler\n",
        "\n",
        "#importer les biblio\n",
        "import sklearn.metrics as metrics\n",
        "import sklearn\n",
        "import pandas as pd\n",
        "import pandas_profiling as pp\n",
        "import numpy as np\n",
        "import matplotlib.pyplot as plt\n",
        "import seaborn as sb\n",
        "from matplotlib import pyplot\n",
        "import scikitplot as skplt"
      ]
    },
    {
      "cell_type": "code",
      "source": [
        "!pip install scikit-plot"
      ],
      "metadata": {
        "colab": {
          "base_uri": "https://localhost:8080/"
        },
        "id": "MDGpu2qzuELq",
        "outputId": "07408ed2-58ef-4426-aebf-c581840bb3a7"
      },
      "execution_count": null,
      "outputs": [
        {
          "output_type": "stream",
          "name": "stdout",
          "text": [
            "Looking in indexes: https://pypi.org/simple, https://us-python.pkg.dev/colab-wheels/public/simple/\n",
            "Collecting scikit-plot\n",
            "  Downloading scikit_plot-0.3.7-py3-none-any.whl (33 kB)\n",
            "Requirement already satisfied: matplotlib>=1.4.0 in /usr/local/lib/python3.7/dist-packages (from scikit-plot) (3.2.2)\n",
            "Requirement already satisfied: scikit-learn>=0.18 in /usr/local/lib/python3.7/dist-packages (from scikit-plot) (1.0.2)\n",
            "Requirement already satisfied: joblib>=0.10 in /usr/local/lib/python3.7/dist-packages (from scikit-plot) (1.1.0)\n",
            "Requirement already satisfied: scipy>=0.9 in /usr/local/lib/python3.7/dist-packages (from scikit-plot) (1.4.1)\n",
            "Requirement already satisfied: numpy>=1.11 in /usr/local/lib/python3.7/dist-packages (from matplotlib>=1.4.0->scikit-plot) (1.21.6)\n",
            "Requirement already satisfied: kiwisolver>=1.0.1 in /usr/local/lib/python3.7/dist-packages (from matplotlib>=1.4.0->scikit-plot) (1.4.2)\n",
            "Requirement already satisfied: python-dateutil>=2.1 in /usr/local/lib/python3.7/dist-packages (from matplotlib>=1.4.0->scikit-plot) (2.8.2)\n",
            "Requirement already satisfied: cycler>=0.10 in /usr/local/lib/python3.7/dist-packages (from matplotlib>=1.4.0->scikit-plot) (0.11.0)\n",
            "Requirement already satisfied: pyparsing!=2.0.4,!=2.1.2,!=2.1.6,>=2.0.1 in /usr/local/lib/python3.7/dist-packages (from matplotlib>=1.4.0->scikit-plot) (3.0.9)\n",
            "Requirement already satisfied: typing-extensions in /usr/local/lib/python3.7/dist-packages (from kiwisolver>=1.0.1->matplotlib>=1.4.0->scikit-plot) (4.2.0)\n",
            "Requirement already satisfied: six>=1.5 in /usr/local/lib/python3.7/dist-packages (from python-dateutil>=2.1->matplotlib>=1.4.0->scikit-plot) (1.15.0)\n",
            "Requirement already satisfied: threadpoolctl>=2.0.0 in /usr/local/lib/python3.7/dist-packages (from scikit-learn>=0.18->scikit-plot) (3.1.0)\n",
            "Installing collected packages: scikit-plot\n",
            "Successfully installed scikit-plot-0.3.7\n"
          ]
        }
      ]
    },
    {
      "cell_type": "code",
      "source": [
        "from google.colab import drive\n",
        "drive.mount('/content/drive')"
      ],
      "metadata": {
        "colab": {
          "base_uri": "https://localhost:8080/"
        },
        "id": "MteKHoFGqanD",
        "outputId": "d152344e-240d-43cc-8f2a-ee76331559eb"
      },
      "execution_count": null,
      "outputs": [
        {
          "output_type": "stream",
          "name": "stdout",
          "text": [
            "Mounted at /content/drive\n"
          ]
        }
      ]
    },
    {
      "cell_type": "code",
      "source": [
        "number_of_samples = 10000"
      ],
      "metadata": {
        "id": "QE6BTB-WqiR5"
      },
      "execution_count": null,
      "outputs": []
    },
    {
      "cell_type": "code",
      "source": [
        "data_attack = pd.read_csv('/content/drive/MyDrive/dataset_attack.csv', nrows = number_of_samples)"
      ],
      "metadata": {
        "id": "3STUdLLtqo-E"
      },
      "execution_count": null,
      "outputs": []
    },
    {
      "cell_type": "code",
      "source": [
        "data_normal = pd.read_csv('/content/drive/MyDrive/dataset_normal.csv', nrows = number_of_samples)"
      ],
      "metadata": {
        "id": "yvJMyghyquiv"
      },
      "execution_count": null,
      "outputs": []
    },
    {
      "cell_type": "code",
      "source": [
        "data_normal.columns=[ 'frame.len', 'frame.protocols', 'ip.hdr_len',\n",
        "       'ip.len', 'ip.flags.rb', 'ip.flags.df', 'p.flags.mf', 'ip.frag_offset',\n",
        "       'ip.ttl', 'ip.proto', 'ip.src', 'ip.dst', 'tcp.srcport', 'tcp.dstport',\n",
        "       'tcp.len', 'tcp.ack', 'tcp.flags.res', 'tcp.flags.ns', 'tcp.flags.cwr',\n",
        "       'tcp.flags.ecn', 'tcp.flags.urg', 'tcp.flags.ack', 'tcp.flags.push',\n",
        "       'tcp.flags.reset', 'tcp.flags.syn', 'tcp.flags.fin', 'tcp.window_size',\n",
        "       'tcp.time_delta','class']\n",
        "data_attack.columns=[ 'frame.len', 'frame.protocols', 'ip.hdr_len',\n",
        "       'ip.len', 'ip.flags.rb', 'ip.flags.df', 'p.flags.mf', 'ip.frag_offset',\n",
        "       'ip.ttl', 'ip.proto', 'ip.src', 'ip.dst', 'tcp.srcport', 'tcp.dstport',\n",
        "       'tcp.len', 'tcp.ack', 'tcp.flags.res', 'tcp.flags.ns', 'tcp.flags.cwr',\n",
        "       'tcp.flags.ecn', 'tcp.flags.urg', 'tcp.flags.ack', 'tcp.flags.push',\n",
        "       'tcp.flags.reset', 'tcp.flags.syn', 'tcp.flags.fin', 'tcp.window_size',\n",
        "       'tcp.time_delta','class']"
      ],
      "metadata": {
        "id": "OASWLDAOqzoU"
      },
      "execution_count": null,
      "outputs": []
    },
    {
      "cell_type": "code",
      "source": [
        "data_normal=data_normal.drop(['ip.src', 'ip.dst','frame.protocols'],axis=1)\n",
        "data_attack=data_attack.drop(['ip.src', 'ip.dst','frame.protocols'],axis=1)"
      ],
      "metadata": {
        "id": "wfmMTT-Pq4Fo"
      },
      "execution_count": null,
      "outputs": []
    },
    {
      "cell_type": "code",
      "source": [
        "import pandas as pd\n",
        "import seaborn as sn\n",
        "import matplotlib.pyplot as plt\n"
      ],
      "metadata": {
        "id": "XWaFYovXq6Ua"
      },
      "execution_count": null,
      "outputs": []
    },
    {
      "cell_type": "code",
      "source": [
        "features=[ 'frame.len', 'ip.hdr_len',\n",
        "       'ip.len', 'ip.flags.rb', 'ip.flags.df', 'p.flags.mf', 'ip.frag_offset',\n",
        "       'ip.ttl', 'ip.proto', 'tcp.srcport', 'tcp.dstport',\n",
        "       'tcp.len', 'tcp.ack', 'tcp.flags.res', 'tcp.flags.ns', 'tcp.flags.cwr',\n",
        "       'tcp.flags.ecn', 'tcp.flags.urg', 'tcp.flags.ack', 'tcp.flags.push',\n",
        "       'tcp.flags.reset', 'tcp.flags.syn', 'tcp.flags.fin', 'tcp.window_size',\n",
        "       'tcp.time_delta']"
      ],
      "metadata": {
        "id": "uOWWHxCaq9Xa"
      },
      "execution_count": null,
      "outputs": []
    },
    {
      "cell_type": "code",
      "source": [
        "X_normal= data_normal[features].values\n",
        "X_attack= data_attack[features].values\n",
        "Y_normal= data_normal['class']\n",
        "Y_attack= data_attack['class']\n",
        "X=np.concatenate((X_normal,X_attack))\n",
        "Y=np.concatenate((Y_normal,Y_attack))"
      ],
      "metadata": {
        "id": "yDELhgyzrBkv"
      },
      "execution_count": null,
      "outputs": []
    },
    {
      "cell_type": "code",
      "source": [
        "from sklearn import preprocessing\n",
        "\n",
        "min_max_scaler = preprocessing.MinMaxScaler()\n",
        "\n",
        "x = min_max_scaler.fit_transform(X)\n",
        "\n",
        "x"
      ],
      "metadata": {
        "colab": {
          "base_uri": "https://localhost:8080/"
        },
        "id": "JUoibZ47rD_g",
        "outputId": "8d6d3879-8d15-4507-b693-abccf39bb90b"
      },
      "execution_count": null,
      "outputs": [
        {
          "output_type": "execute_result",
          "data": {
            "text/plain": [
              "array([[1.00412655e-01, 1.00000000e+00, 1.28000000e-01, ...,\n",
              "        0.00000000e+00, 1.65743498e-01, 0.00000000e+00],\n",
              "       [0.00000000e+00, 1.00000000e+00, 2.66666667e-02, ...,\n",
              "        0.00000000e+00, 7.44887830e-02, 1.29209878e-05],\n",
              "       [0.00000000e+00, 1.00000000e+00, 2.66666667e-02, ...,\n",
              "        0.00000000e+00, 7.44887830e-02, 3.72952162e-06],\n",
              "       ...,\n",
              "       [1.04539202e-01, 1.00000000e+00, 1.32000000e-01, ...,\n",
              "        0.00000000e+00, 0.00000000e+00, 0.00000000e+00],\n",
              "       [0.00000000e+00, 1.00000000e+00, 2.66666667e-02, ...,\n",
              "        0.00000000e+00, 1.55280921e-01, 4.33762613e-03],\n",
              "       [1.37551582e-03, 1.00000000e+00, 3.20000000e-02, ...,\n",
              "        0.00000000e+00, 0.00000000e+00, 0.00000000e+00]])"
            ]
          },
          "metadata": {},
          "execution_count": 13
        }
      ]
    },
    {
      "cell_type": "code",
      "source": [
        "for i in range(0,len(Y)):\n",
        "  if Y[i] ==\"attack\":\n",
        "    Y[i]=1\n",
        "  else:\n",
        "    Y[i]=0"
      ],
      "metadata": {
        "id": "qo-naSENrGRW"
      },
      "execution_count": null,
      "outputs": []
    },
    {
      "cell_type": "code",
      "source": [
        "X_train,X_test,y_train,y_test = train_test_split(x, Y,test_size=0.3, stratify=Y)"
      ],
      "metadata": {
        "id": "sQFr4VwnD1LN"
      },
      "execution_count": null,
      "outputs": []
    },
    {
      "cell_type": "code",
      "source": [
        "X_train,X_val,y_train,y_val = train_test_split(X_train,y_train,test_size=0.3, stratify=y_train)"
      ],
      "metadata": {
        "id": "MwBWG9WKEHmD"
      },
      "execution_count": null,
      "outputs": []
    },
    {
      "cell_type": "code",
      "source": [
        "x_l=X_train.tolist()\n",
        "y_l=y_train.tolist()\n",
        "x_a=np.array(x_l)\n",
        "y_a=np.array(y_l)\n",
        "x_l=[]\n",
        "y_l=[]\n",
        "xt_l=X_test.tolist()\n",
        "yt_l=y_test.tolist()\n",
        "xt_a=np.array(xt_l)\n",
        "yt_a=np.array(yt_l)\n",
        "xt_l=[]\n",
        "yt_l=[]\n",
        "xv_l=X_val.tolist()\n",
        "yv_l=y_val.tolist()\n",
        "xv_a=np.array(xv_l)\n",
        "yv_a=np.array(yv_l)\n",
        "xv_l=[]\n",
        "yv_l=[]"
      ],
      "metadata": {
        "id": "0kzFjh5UsPqv"
      },
      "execution_count": null,
      "outputs": []
    },
    {
      "cell_type": "markdown",
      "source": [
        "Random forest:"
      ],
      "metadata": {
        "id": "4u9tz6NbrbDc"
      }
    },
    {
      "cell_type": "code",
      "source": [
        "clf = RandomForestClassifier(max_depth=2, random_state=0)"
      ],
      "metadata": {
        "id": "pxOaLuBYrM8t"
      },
      "execution_count": null,
      "outputs": []
    },
    {
      "cell_type": "code",
      "source": [
        "clf.fit(x_a,y_a)"
      ],
      "metadata": {
        "colab": {
          "base_uri": "https://localhost:8080/"
        },
        "id": "qCQxMwmSryj9",
        "outputId": "3606c898-e9a1-45a5-9bf9-50e4cabd0d44"
      },
      "execution_count": null,
      "outputs": [
        {
          "output_type": "execute_result",
          "data": {
            "text/plain": [
              "RandomForestClassifier(max_depth=2, random_state=0)"
            ]
          },
          "metadata": {},
          "execution_count": 19
        }
      ]
    },
    {
      "cell_type": "code",
      "source": [
        "#Predict the response for test dataset\n",
        "predictions = clf.predict(xt_a)\n",
        "predictions"
      ],
      "metadata": {
        "colab": {
          "base_uri": "https://localhost:8080/"
        },
        "id": "C67cn0h-tGwc",
        "outputId": "5c0d068f-20c4-486d-a275-1b3d08909936"
      },
      "execution_count": null,
      "outputs": [
        {
          "output_type": "execute_result",
          "data": {
            "text/plain": [
              "array([0, 1, 0, ..., 0, 0, 0])"
            ]
          },
          "metadata": {},
          "execution_count": 20
        }
      ]
    },
    {
      "cell_type": "code",
      "source": [
        "print(metrics.confusion_matrix(yt_a,predictions))\n",
        "# using scikiptlot\n",
        "skplt.metrics.plot_confusion_matrix(yt_a,predictions)"
      ],
      "metadata": {
        "colab": {
          "base_uri": "https://localhost:8080/",
          "height": 357
        },
        "id": "sjA1n_9QtJxW",
        "outputId": "83e448f3-c0ea-4da8-a772-1c4928a84794"
      },
      "execution_count": null,
      "outputs": [
        {
          "output_type": "stream",
          "name": "stdout",
          "text": [
            "[[2900  100]\n",
            " [ 926 2074]]\n"
          ]
        },
        {
          "output_type": "execute_result",
          "data": {
            "text/plain": [
              "<matplotlib.axes._subplots.AxesSubplot at 0x7eff67cd5590>"
            ]
          },
          "metadata": {},
          "execution_count": 21
        },
        {
          "output_type": "display_data",
          "data": {
            "text/plain": [
              "<Figure size 432x288 with 2 Axes>"
            ],
            "image/png": "[encoded data removed]"
          },
          "metadata": {}
        }
      ]
    },
    {
      "cell_type": "code",
      "source": [
        "#define metrics\n",
        "y_pred_proba = clf.predict_proba(xt_a)[::,1]\n",
        "fpr, tpr, _ = metrics.roc_curve(yt_a,  y_pred_proba)\n",
        "\n",
        "#create ROC curve\n",
        "plt.plot(fpr,tpr)\n",
        "plt.ylabel('True Positive Rate')\n",
        "plt.xlabel('False Positive Rate')\n",
        "plt.show()"
      ],
      "metadata": {
        "colab": {
          "base_uri": "https://localhost:8080/",
          "height": 285
        },
        "id": "5A5mBfacX7ph",
        "outputId": "76c0b56c-6e22-4a46-c1ae-26c5c204f9b3"
      },
      "execution_count": null,
      "outputs": [
        {
          "output_type": "display_data",
          "data": {
            "text/plain": [
              "<Figure size 432x288 with 1 Axes>"
            ],
            "image/png": "[encoded data removed]"
          },
          "metadata": {}
        }
      ]
    },
    {
      "cell_type": "code",
      "source": [
        "acc = metrics.accuracy_score(yt_a, predictions)\n",
        "print(\"Accuracy = %.2f\" %(acc))\n",
        "f1 = metrics.f1_score(yt_a, predictions)\n",
        "print(\"F1 = %.2f\" %(f1))\n",
        "p = metrics.precision_score(yt_a, predictions)\n",
        "print(\"Precision = %.2f\" %(p))\n",
        "r = metrics.recall_score(yt_a, predictions)\n",
        "print(\"Recall = %.2f\" %(r))\n",
        "loss = metrics.log_loss(yt_a, predictions)\n",
        "print(\"log-loss = %.2f\" %(loss))\n",
        "auc = metrics.roc_auc_score(yt_a, predictions)\n",
        "print(\"ROC-AUC = %.2f\" %(auc))"
      ],
      "metadata": {
        "colab": {
          "base_uri": "https://localhost:8080/"
        },
        "id": "hP5Ncp7ktNN7",
        "outputId": "73e687a0-d5ee-4c1e-cfcd-a1295bf9f81b"
      },
      "execution_count": null,
      "outputs": [
        {
          "output_type": "stream",
          "name": "stdout",
          "text": [
            "Accuracy = 0.83\n",
            "F1 = 0.80\n",
            "Precision = 0.95\n",
            "Recall = 0.69\n",
            "log-loss = 5.91\n",
            "ROC-AUC = 0.83\n"
          ]
        }
      ]
    },
    {
      "cell_type": "markdown",
      "source": [
        "Adaboost classifier:"
      ],
      "metadata": {
        "id": "AJRfQgY4DfpK"
      }
    },
    {
      "cell_type": "code",
      "source": [
        "ad=AdaBoostClassifier(base_estimator=clf)"
      ],
      "metadata": {
        "id": "bWfBBWEMDbyW"
      },
      "execution_count": null,
      "outputs": []
    },
    {
      "cell_type": "code",
      "source": [
        "ad.fit(xt_a,yt_a)"
      ],
      "metadata": {
        "colab": {
          "base_uri": "https://localhost:8080/"
        },
        "id": "0nRsraKODlWZ",
        "outputId": "55fea805-0080-47dd-b6b4-1b5556df66aa"
      },
      "execution_count": null,
      "outputs": [
        {
          "output_type": "execute_result",
          "data": {
            "text/plain": [
              "AdaBoostClassifier(base_estimator=RandomForestClassifier(max_depth=2,\n",
              "                                                         random_state=0))"
            ]
          },
          "metadata": {},
          "execution_count": 50
        }
      ]
    },
    {
      "cell_type": "code",
      "source": [
        "y_pred = ad.predict(xv_a)"
      ],
      "metadata": {
        "id": "2hoJp4mkDrzl"
      },
      "execution_count": null,
      "outputs": []
    },
    {
      "cell_type": "code",
      "source": [
        "print(metrics.confusion_matrix(yv_a,y_pred))\n",
        "# using scikiptlot\n",
        "skplt.metrics.plot_confusion_matrix(yv_a,y_pred)"
      ],
      "metadata": {
        "colab": {
          "base_uri": "https://localhost:8080/",
          "height": 357
        },
        "id": "MPWRy_KkFR0b",
        "outputId": "5516664d-8921-4e08-b351-bf31e6037a2a"
      },
      "execution_count": null,
      "outputs": [
        {
          "output_type": "stream",
          "name": "stdout",
          "text": [
            "[[2087   13]\n",
            " [  18 2082]]\n"
          ]
        },
        {
          "output_type": "execute_result",
          "data": {
            "text/plain": [
              "<matplotlib.axes._subplots.AxesSubplot at 0x7eff669ee1d0>"
            ]
          },
          "metadata": {},
          "execution_count": 52
        },
        {
          "output_type": "display_data",
          "data": {
            "text/plain": [
              "<Figure size 432x288 with 2 Axes>"
            ],
            "image/png": "[encoded data removed]"
          },
          "metadata": {}
        }
      ]
    },
    {
      "cell_type": "code",
      "source": [
        "#define metrics\n",
        "y_pred_proba = ad.predict_proba(xv_a)[::,1]\n",
        "fpr, tpr, _ = metrics.roc_curve(yv_a,  y_pred_proba)\n",
        "\n",
        "#create ROC curve\n",
        "plt.plot(fpr,tpr)\n",
        "plt.ylabel('True Positive Rate')\n",
        "plt.xlabel('False Positive Rate')\n",
        "plt.show()"
      ],
      "metadata": {
        "colab": {
          "base_uri": "https://localhost:8080/",
          "height": 285
        },
        "id": "HOvg9cZbYWTl",
        "outputId": "d52459b3-7a69-4326-b823-887311272776"
      },
      "execution_count": null,
      "outputs": [
        {
          "output_type": "display_data",
          "data": {
            "text/plain": [
              "<Figure size 432x288 with 1 Axes>"
            ],
            "image/png": "[encoded data removed]"
          },
          "metadata": {}
        }
      ]
    },
    {
      "cell_type": "code",
      "source": [
        "acc = metrics.accuracy_score(yv_a,y_pred)\n",
        "print(\"Accuracy = %.2f\" %(acc))\n",
        "f1 = metrics.f1_score(yv_a,y_pred)\n",
        "print(\"F1 = %.2f\" %(f1))\n",
        "p = metrics.precision_score(yv_a,y_pred)\n",
        "print(\"Precision = %.2f\" %(p))\n",
        "r = metrics.recall_score(yv_a,y_pred)\n",
        "print(\"Recall = %.2f\" %(r))\n",
        "loss = metrics.log_loss(yv_a,y_pred)\n",
        "print(\"log-loss = %.2f\" %(loss))\n",
        "auc = metrics.roc_auc_score(yv_a,y_pred)\n",
        "print(\"ROC-AUC = %.2f\" %(auc))"
      ],
      "metadata": {
        "colab": {
          "base_uri": "https://localhost:8080/"
        },
        "id": "aE5jpAuGFaSI",
        "outputId": "866046b4-671a-4d12-95ca-2ffe2760523b"
      },
      "execution_count": null,
      "outputs": [
        {
          "output_type": "stream",
          "name": "stdout",
          "text": [
            "Accuracy = 0.99\n",
            "F1 = 0.99\n",
            "Precision = 0.99\n",
            "Recall = 0.99\n",
            "log-loss = 0.25\n",
            "ROC-AUC = 0.99\n"
          ]
        }
      ]
    },
    {
      "cell_type": "markdown",
      "source": [
        "SVM:"
      ],
      "metadata": {
        "id": "jRUCbJNUF0Py"
      }
    },
    {
      "cell_type": "code",
      "source": [
        "SVM = svm.SVC(kernel='linear') # Linear Kernel\n",
        "\n",
        "#Train the model using the training sets\n",
        "SVM.fit(x_a, y_a)\n",
        "\n",
        "#Predict the response for test dataset\n",
        "y_pred = SVM.predict(xt_a)"
      ],
      "metadata": {
        "id": "k33UtMV1FvkA"
      },
      "execution_count": null,
      "outputs": []
    },
    {
      "cell_type": "code",
      "source": [
        "print(metrics.confusion_matrix(yt_a, y_pred))\n",
        "# using scikiptlot\n",
        "skplt.metrics.plot_confusion_matrix(yt_a, y_pred)"
      ],
      "metadata": {
        "colab": {
          "base_uri": "https://localhost:8080/",
          "height": 357
        },
        "id": "Gdn6bB41GEiP",
        "outputId": "bfb2d38a-3bed-4160-85f0-4f886b2623b4"
      },
      "execution_count": null,
      "outputs": [
        {
          "output_type": "stream",
          "name": "stdout",
          "text": [
            "[[2802  198]\n",
            " [ 245 2755]]\n"
          ]
        },
        {
          "output_type": "execute_result",
          "data": {
            "text/plain": [
              "<matplotlib.axes._subplots.AxesSubplot at 0x7eff6752b0d0>"
            ]
          },
          "metadata": {},
          "execution_count": 36
        },
        {
          "output_type": "display_data",
          "data": {
            "text/plain": [
              "<Figure size 432x288 with 2 Axes>"
            ],
            "image/png": "[encoded data removed]"
          },
          "metadata": {}
        }
      ]
    },
    {
      "cell_type": "code",
      "source": [
        "# Model Accuracy: how often is the classifier correct?\n",
        "print(\"Accuracy:\",metrics.accuracy_score(yt_a, y_pred))\n",
        "# Model Precision: what percentage of positive tuples are labeled as such?\n",
        "print(\"Precision:\",metrics.precision_score(yt_a, y_pred))\n",
        "\n",
        "# Model Recall: what percentage of positive tuples are labelled as such?\n",
        "print(\"Recall:\",metrics.recall_score(yt_a, y_pred))"
      ],
      "metadata": {
        "colab": {
          "base_uri": "https://localhost:8080/"
        },
        "id": "GDUpiOHjGN-6",
        "outputId": "c6c60628-43b1-41bf-e5d6-08b39347327d"
      },
      "execution_count": null,
      "outputs": [
        {
          "output_type": "stream",
          "name": "stdout",
          "text": [
            "Accuracy: 0.9261666666666667\n",
            "Precision: 0.9329495428377921\n",
            "Recall: 0.9183333333333333\n"
          ]
        }
      ]
    },
    {
      "cell_type": "markdown",
      "source": [
        "Gradient Boosting Classifier"
      ],
      "metadata": {
        "id": "3TtaSyt-Gbha"
      }
    },
    {
      "cell_type": "code",
      "source": [
        "gb_clf = GradientBoostingClassifier(n_estimators=60, learning_rate=0.09, max_depth=3, random_state=0).fit(x_a, y_a)"
      ],
      "metadata": {
        "id": "1hfYqzANGYvH"
      },
      "execution_count": null,
      "outputs": []
    },
    {
      "cell_type": "code",
      "source": [
        "y_pred = gb_clf.predict(xt_a)"
      ],
      "metadata": {
        "id": "Dw2d97oTGqFW"
      },
      "execution_count": null,
      "outputs": []
    },
    {
      "cell_type": "code",
      "source": [
        "print(metrics.confusion_matrix(yt_a, y_pred))\n",
        "# using scikiptlot\n",
        "skplt.metrics.plot_confusion_matrix(yt_a, y_pred)"
      ],
      "metadata": {
        "colab": {
          "base_uri": "https://localhost:8080/",
          "height": 357
        },
        "id": "Y_EpzmeZZE7J",
        "outputId": "2e829dde-a6db-46db-d3c0-6477451088a2"
      },
      "execution_count": null,
      "outputs": [
        {
          "output_type": "stream",
          "name": "stdout",
          "text": [
            "[[2977   23]\n",
            " [  29 2971]]\n"
          ]
        },
        {
          "output_type": "execute_result",
          "data": {
            "text/plain": [
              "<matplotlib.axes._subplots.AxesSubplot at 0x7eff66e3aa50>"
            ]
          },
          "metadata": {},
          "execution_count": 46
        },
        {
          "output_type": "display_data",
          "data": {
            "text/plain": [
              "<Figure size 432x288 with 2 Axes>"
            ],
            "image/png": "[encoded data removed]"
          },
          "metadata": {}
        }
      ]
    },
    {
      "cell_type": "code",
      "source": [
        "#define metrics\n",
        "y_pred_proba = gb_clf.predict_proba(xt_a)[::,1]\n",
        "fpr, tpr, _ = metrics.roc_curve(yt_a,  y_pred_proba)\n",
        "\n",
        "#create ROC curve\n",
        "plt.plot(fpr,tpr)\n",
        "plt.ylabel('True Positive Rate')\n",
        "plt.xlabel('False Positive Rate')\n",
        "plt.show()"
      ],
      "metadata": {
        "colab": {
          "base_uri": "https://localhost:8080/",
          "height": 285
        },
        "id": "A4o422RnZWUW",
        "outputId": "c1a36828-022c-4e20-c376-4c5bf6b4bd21"
      },
      "execution_count": null,
      "outputs": [
        {
          "output_type": "display_data",
          "data": {
            "text/plain": [
              "<Figure size 432x288 with 1 Axes>"
            ],
            "image/png": "[encoded data removed]"
          },
          "metadata": {}
        }
      ]
    },
    {
      "cell_type": "code",
      "source": [
        "# Model Accuracy: how often is the classifier correct?\n",
        "print(\"Accuracy:\",metrics.accuracy_score(yt_a, y_pred))\n",
        "# Model Precision: what percentage of positive tuples are labeled as such?\n",
        "print(\"Precision:\",metrics.precision_score(yt_a, y_pred))\n",
        "\n",
        "# Model Recall: what percentage of positive tuples are labelled as such?\n",
        "print(\"Recall:\",metrics.recall_score(yt_a, y_pred))"
      ],
      "metadata": {
        "colab": {
          "base_uri": "https://localhost:8080/"
        },
        "id": "A7BpejggZcMz",
        "outputId": "73414f1c-c70a-451f-8d83-b5521265b8d3"
      },
      "execution_count": null,
      "outputs": [
        {
          "output_type": "stream",
          "name": "stdout",
          "text": [
            "Accuracy: 0.9913333333333333\n",
            "Precision: 0.9923179692718771\n",
            "Recall: 0.9903333333333333\n"
          ]
        }
      ]
    },
    {
      "cell_type": "markdown",
      "source": [
        "KNN:"
      ],
      "metadata": {
        "id": "upYtQFf3Z9lz"
      }
    },
    {
      "cell_type": "code",
      "source": [
        "from sklearn.neighbors import KNeighborsClassifier\n",
        "classifier = KNeighborsClassifier(n_neighbors=5)\n",
        "classifier.fit(x_a, y_a)"
      ],
      "metadata": {
        "colab": {
          "base_uri": "https://localhost:8080/"
        },
        "id": "1OyS0DxgaA4E",
        "outputId": "eeab51c4-899b-4726-ebff-1a72e7046d4a"
      },
      "execution_count": null,
      "outputs": [
        {
          "output_type": "execute_result",
          "data": {
            "text/plain": [
              "KNeighborsClassifier()"
            ]
          },
          "metadata": {},
          "execution_count": 56
        }
      ]
    },
    {
      "cell_type": "code",
      "source": [
        "y_pred = classifier.predict(xt_a)"
      ],
      "metadata": {
        "id": "28BPqav0aD0O"
      },
      "execution_count": null,
      "outputs": []
    },
    {
      "cell_type": "code",
      "source": [
        "print(metrics.confusion_matrix(yt_a, y_pred))\n",
        "# using scikiptlot\n",
        "skplt.metrics.plot_confusion_matrix(yt_a, y_pred)"
      ],
      "metadata": {
        "colab": {
          "base_uri": "https://localhost:8080/",
          "height": 357
        },
        "id": "xbzwDIAraGJK",
        "outputId": "a9cb1dd1-06bd-4ce2-d1ef-eb7df5d59a97"
      },
      "execution_count": null,
      "outputs": [
        {
          "output_type": "stream",
          "name": "stdout",
          "text": [
            "[[2972   28]\n",
            " [  44 2956]]\n"
          ]
        },
        {
          "output_type": "execute_result",
          "data": {
            "text/plain": [
              "<matplotlib.axes._subplots.AxesSubplot at 0x7eff667eea10>"
            ]
          },
          "metadata": {},
          "execution_count": 58
        },
        {
          "output_type": "display_data",
          "data": {
            "text/plain": [
              "<Figure size 432x288 with 2 Axes>"
            ],
            "image/png": "[encoded data removed]"
          },
          "metadata": {}
        }
      ]
    },
    {
      "cell_type": "code",
      "source": [
        "#define metrics\n",
        "y_pred_proba = classifier.predict_proba(xt_a)[::,1]\n",
        "fpr, tpr, _ = metrics.roc_curve(yt_a,  y_pred_proba)\n",
        "\n",
        "#create ROC curve\n",
        "plt.plot(fpr,tpr)\n",
        "plt.ylabel('True Positive Rate')\n",
        "plt.xlabel('False Positive Rate')\n",
        "plt.show()"
      ],
      "metadata": {
        "colab": {
          "base_uri": "https://localhost:8080/",
          "height": 285
        },
        "id": "cKn8cd7baJAw",
        "outputId": "b88292bd-830a-489a-b06c-be3522524561"
      },
      "execution_count": null,
      "outputs": [
        {
          "output_type": "display_data",
          "data": {
            "text/plain": [
              "<Figure size 432x288 with 1 Axes>"
            ],
            "image/png": "[encoded data removed]"
          },
          "metadata": {}
        }
      ]
    },
    {
      "cell_type": "code",
      "source": [
        "# Model Accuracy: how often is the classifier correct?\n",
        "print(\"Accuracy:\",metrics.accuracy_score(yt_a, y_pred))\n",
        "# Model Precision: what percentage of positive tuples are labeled as such?\n",
        "print(\"Precision:\",metrics.precision_score(yt_a, y_pred))\n",
        "\n",
        "# Model Recall: what percentage of positive tuples are labelled as such?\n",
        "print(\"Recall:\",metrics.recall_score(yt_a, y_pred))"
      ],
      "metadata": {
        "colab": {
          "base_uri": "https://localhost:8080/"
        },
        "id": "iK9gX58jaNAk",
        "outputId": "2e588e81-5f7a-495a-9e39-78a307d29c31"
      },
      "execution_count": null,
      "outputs": [
        {
          "output_type": "stream",
          "name": "stdout",
          "text": [
            "Accuracy: 0.988\n",
            "Precision: 0.9906166219839142\n",
            "Recall: 0.9853333333333333\n"
          ]
        }
      ]
    },
    {
      "cell_type": "markdown",
      "source": [
        "Logistique Regression:"
      ],
      "metadata": {
        "id": "97bCJX0CaS_y"
      }
    },
    {
      "cell_type": "code",
      "source": [
        "from sklearn.linear_model import LogisticRegression"
      ],
      "metadata": {
        "id": "xMT1joEEaQjn"
      },
      "execution_count": null,
      "outputs": []
    },
    {
      "cell_type": "code",
      "source": [
        "modele_logit = LogisticRegression(penalty='none',solver='newton-cg')\n",
        "modele_logit.fit(x_a, y_a)"
      ],
      "metadata": {
        "colab": {
          "base_uri": "https://localhost:8080/"
        },
        "id": "UnkrA48IaXzH",
        "outputId": "df8b0a6a-1a69-4507-cc5f-53db025bab48"
      },
      "execution_count": null,
      "outputs": [
        {
          "output_type": "execute_result",
          "data": {
            "text/plain": [
              "LogisticRegression(penalty='none', solver='newton-cg')"
            ]
          },
          "metadata": {},
          "execution_count": 62
        }
      ]
    },
    {
      "cell_type": "code",
      "source": [
        "y_pred = modele_logit.predict(xt_a)"
      ],
      "metadata": {
        "id": "MzJDlys1aaH_"
      },
      "execution_count": null,
      "outputs": []
    },
    {
      "cell_type": "code",
      "source": [
        "print(metrics.confusion_matrix(yt_a, y_pred))\n",
        "# using scikiptlot\n",
        "skplt.metrics.plot_confusion_matrix(yt_a, y_pred)"
      ],
      "metadata": {
        "colab": {
          "base_uri": "https://localhost:8080/",
          "height": 357
        },
        "id": "cfB60UMZacY3",
        "outputId": "6bde11ee-770a-4414-c56c-96cd8cfa0bb7"
      },
      "execution_count": null,
      "outputs": [
        {
          "output_type": "stream",
          "name": "stdout",
          "text": [
            "[[2778  222]\n",
            " [ 252 2748]]\n"
          ]
        },
        {
          "output_type": "execute_result",
          "data": {
            "text/plain": [
              "<matplotlib.axes._subplots.AxesSubplot at 0x7eff63ee4a50>"
            ]
          },
          "metadata": {},
          "execution_count": 64
        },
        {
          "output_type": "display_data",
          "data": {
            "text/plain": [
              "<Figure size 432x288 with 2 Axes>"
            ],
            "image/png": "[encoded data removed]"
          },
          "metadata": {}
        }
      ]
    },
    {
      "cell_type": "code",
      "source": [
        "#define metrics\n",
        "y_pred_proba = modele_logit.predict_proba(xt_a)[::,1]\n",
        "fpr, tpr, _ = metrics.roc_curve(yt_a,  y_pred_proba)\n",
        "\n",
        "#create ROC curve\n",
        "plt.plot(fpr,tpr)\n",
        "plt.ylabel('True Positive Rate')\n",
        "plt.xlabel('False Positive Rate')\n",
        "plt.show()"
      ],
      "metadata": {
        "colab": {
          "base_uri": "https://localhost:8080/",
          "height": 285
        },
        "id": "JXR3fJIDafno",
        "outputId": "cda39273-4d7c-4a6e-99ad-da743af413b9"
      },
      "execution_count": null,
      "outputs": [
        {
          "output_type": "display_data",
          "data": {
            "text/plain": [
              "<Figure size 432x288 with 1 Axes>"
            ],
            "image/png": "[encoded data removed]"
          },
          "metadata": {}
        }
      ]
    },
    {
      "cell_type": "code",
      "source": [
        "# Model Accuracy: how often is the classifier correct?\n",
        "print(\"Accuracy:\",metrics.accuracy_score(yt_a, y_pred))\n",
        "# Model Precision: what percentage of positive tuples are labeled as such?\n",
        "print(\"Precision:\",metrics.precision_score(yt_a, y_pred))\n",
        "\n",
        "# Model Recall: what percentage of positive tuples are labelled as such?\n",
        "print(\"Recall:\",metrics.recall_score(yt_a, y_pred))"
      ],
      "metadata": {
        "colab": {
          "base_uri": "https://localhost:8080/"
        },
        "id": "2YQdF9h9ajKU",
        "outputId": "a7020969-2946-468b-a21e-2791f9f960b8"
      },
      "execution_count": null,
      "outputs": [
        {
          "output_type": "stream",
          "name": "stdout",
          "text": [
            "Accuracy: 0.921\n",
            "Precision: 0.9252525252525252\n",
            "Recall: 0.916\n"
          ]
        }
      ]
    },
    {
      "cell_type": "markdown",
      "source": [
        "naïve bayésienne"
      ],
      "metadata": {
        "id": "PJwtfiwTaqFE"
      }
    },
    {
      "cell_type": "code",
      "source": [
        "from sklearn.naive_bayes import GaussianNB"
      ],
      "metadata": {
        "id": "GinmMyj1am3K"
      },
      "execution_count": null,
      "outputs": []
    },
    {
      "cell_type": "code",
      "source": [
        "gnb = GaussianNB()"
      ],
      "metadata": {
        "id": "yP1Att3aavK9"
      },
      "execution_count": null,
      "outputs": []
    },
    {
      "cell_type": "code",
      "source": [
        "y_pred = gnb.fit(x_a, y_a).predict(xt_a)"
      ],
      "metadata": {
        "id": "GCjhKvZpazHc"
      },
      "execution_count": null,
      "outputs": []
    },
    {
      "cell_type": "code",
      "source": [
        "print(metrics.confusion_matrix(yt_a, y_pred))\n",
        "# using scikiptlot\n",
        "skplt.metrics.plot_confusion_matrix(yt_a, y_pred)"
      ],
      "metadata": {
        "colab": {
          "base_uri": "https://localhost:8080/",
          "height": 357
        },
        "id": "DQFkjS8na1qL",
        "outputId": "545af19b-0781-4a26-ec3e-955cec3419b4"
      },
      "execution_count": null,
      "outputs": [
        {
          "output_type": "stream",
          "name": "stdout",
          "text": [
            "[[ 508 2492]\n",
            " [  35 2965]]\n"
          ]
        },
        {
          "output_type": "execute_result",
          "data": {
            "text/plain": [
              "<matplotlib.axes._subplots.AxesSubplot at 0x7eff63e4a050>"
            ]
          },
          "metadata": {},
          "execution_count": 70
        },
        {
          "output_type": "display_data",
          "data": {
            "text/plain": [
              "<Figure size 432x288 with 2 Axes>"
            ],
            "image/png": "[encoded data removed]"
          },
          "metadata": {}
        }
      ]
    },
    {
      "cell_type": "code",
      "source": [
        "#define metrics\n",
        "y_pred_proba = gnb.predict_proba(xt_a)[::,1]\n",
        "fpr, tpr, _ = metrics.roc_curve(yt_a,  y_pred_proba)\n",
        "\n",
        "#create ROC curve\n",
        "plt.plot(fpr,tpr)\n",
        "plt.ylabel('True Positive Rate')\n",
        "plt.xlabel('False Positive Rate')\n",
        "plt.show()"
      ],
      "metadata": {
        "colab": {
          "base_uri": "https://localhost:8080/",
          "height": 285
        },
        "id": "1xPKg0XIa3BU",
        "outputId": "6b8d6395-f963-417e-861e-70583f8de34e"
      },
      "execution_count": null,
      "outputs": [
        {
          "output_type": "display_data",
          "data": {
            "text/plain": [
              "<Figure size 432x288 with 1 Axes>"
            ],
            "image/png": "[encoded data removed]"
          },
          "metadata": {}
        }
      ]
    },
    {
      "cell_type": "code",
      "source": [
        "# Model Accuracy: how often is the classifier correct?\n",
        "print(\"Accuracy:\",metrics.accuracy_score(yt_a, y_pred))\n",
        "# Model Precision: what percentage of positive tuples are labeled as such?\n",
        "print(\"Precision:\",metrics.precision_score(yt_a, y_pred))\n",
        "\n",
        "# Model Recall: what percentage of positive tuples are labelled as such?\n",
        "print(\"Recall:\",metrics.recall_score(yt_a, y_pred))"
      ],
      "metadata": {
        "colab": {
          "base_uri": "https://localhost:8080/"
        },
        "id": "16oNyv2xa82z",
        "outputId": "8e82d08d-09fa-465d-f87d-31edc812d833"
      },
      "execution_count": null,
      "outputs": [
        {
          "output_type": "stream",
          "name": "stdout",
          "text": [
            "Accuracy: 0.5788333333333333\n",
            "Precision: 0.5433388308594466\n",
            "Recall: 0.9883333333333333\n"
          ]
        }
      ]
    }
  ]
}