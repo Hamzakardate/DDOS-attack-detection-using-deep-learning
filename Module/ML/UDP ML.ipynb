{
  "cells": [
    {
      "cell_type": "code",
      "execution_count": 2,
      "metadata": {
        "colab": {
          "base_uri": "https://localhost:8080/"
        },
        "id": "yB8nfhA0B4cw",
        "outputId": "563559d3-e6b1-43dd-e487-7c57a4117f21"
      },
      "outputs": [
        {
          "output_type": "stream",
          "name": "stdout",
          "text": [
            "Looking in indexes: https://pypi.org/simple, https://us-python.pkg.dev/colab-wheels/public/simple/\n",
            "Collecting scikit-plot\n",
            "  Downloading scikit_plot-0.3.7-py3-none-any.whl (33 kB)\n",
            "Requirement already satisfied: scipy>=0.9 in /usr/local/lib/python3.7/dist-packages (from scikit-plot) (1.4.1)\n",
            "Requirement already satisfied: scikit-learn>=0.18 in /usr/local/lib/python3.7/dist-packages (from scikit-plot) (1.0.2)\n",
            "Requirement already satisfied: matplotlib>=1.4.0 in /usr/local/lib/python3.7/dist-packages (from scikit-plot) (3.2.2)\n",
            "Requirement already satisfied: joblib>=0.10 in /usr/local/lib/python3.7/dist-packages (from scikit-plot) (1.1.0)\n",
            "Requirement already satisfied: numpy>=1.11 in /usr/local/lib/python3.7/dist-packages (from matplotlib>=1.4.0->scikit-plot) (1.21.6)\n",
            "Requirement already satisfied: kiwisolver>=1.0.1 in /usr/local/lib/python3.7/dist-packages (from matplotlib>=1.4.0->scikit-plot) (1.4.2)\n",
            "Requirement already satisfied: cycler>=0.10 in /usr/local/lib/python3.7/dist-packages (from matplotlib>=1.4.0->scikit-plot) (0.11.0)\n",
            "Requirement already satisfied: python-dateutil>=2.1 in /usr/local/lib/python3.7/dist-packages (from matplotlib>=1.4.0->scikit-plot) (2.8.2)\n",
            "Requirement already satisfied: pyparsing!=2.0.4,!=2.1.2,!=2.1.6,>=2.0.1 in /usr/local/lib/python3.7/dist-packages (from matplotlib>=1.4.0->scikit-plot) (3.0.9)\n",
            "Requirement already satisfied: typing-extensions in /usr/local/lib/python3.7/dist-packages (from kiwisolver>=1.0.1->matplotlib>=1.4.0->scikit-plot) (4.2.0)\n",
            "Requirement already satisfied: six>=1.5 in /usr/local/lib/python3.7/dist-packages (from python-dateutil>=2.1->matplotlib>=1.4.0->scikit-plot) (1.15.0)\n",
            "Requirement already satisfied: threadpoolctl>=2.0.0 in /usr/local/lib/python3.7/dist-packages (from scikit-learn>=0.18->scikit-plot) (3.1.0)\n",
            "Installing collected packages: scikit-plot\n",
            "Successfully installed scikit-plot-0.3.7\n"
          ]
        }
      ],
      "source": [
        "!pip install scikit-plot"
      ]
    },
    {
      "cell_type": "code",
      "execution_count": 3,
      "metadata": {
        "id": "_OduhLSTBwQi"
      },
      "outputs": [],
      "source": [
        "import numpy as np\n",
        "import pandas as pd\n",
        "import matplotlib.pyplot as plt\n",
        "\n",
        "import seaborn as sns; sns.set()\n",
        "from keras.models import Sequential, load_model\n",
        "from keras.layers import Dense, LSTM, Bidirectional\n",
        "\n",
        "from keras.utils.vis_utils import plot_model\n",
        "from keras.utils.np_utils import to_categorical\n",
        "from keras.utils import np_utils\n",
        "\n",
        "from sklearn.model_selection import train_test_split\n",
        "from sklearn.preprocessing import LabelEncoder, StandardScaler\n",
        "from sklearn.metrics import confusion_matrix\n",
        "import statsmodels as sm\n",
        "from sklearn import svm\n",
        "import string\n",
        "import re\n",
        "import sys\n",
        "from sklearn.ensemble import AdaBoostClassifier\n",
        "from sklearn.ensemble import GradientBoostingClassifier\n",
        "from sklearn.svm import SVC\n",
        "#Import scikit-learn metrics module for accuracy calculation\n",
        "from sklearn import metrics\n",
        "# Import tools needed for visualization\n",
        "from sklearn.tree import export_graphviz\n",
        "import pydot\n",
        "from sklearn.linear_model import LogisticRegression\n",
        "from sklearn.ensemble import RandomForestRegressor\n",
        "from sklearn.preprocessing import StandardScaler\n",
        "from sklearn.svm import SVC\n",
        "from sklearn.ensemble import RandomForestClassifier,AdaBoostClassifier,GradientBoostingClassifier\n",
        "from mlxtend.frequent_patterns import apriori\n",
        "from mlxtend.frequent_patterns import association_rules\n",
        "from sklearn.metrics import classification_report, accuracy_score, confusion_matrix\n",
        "from sklearn.model_selection import train_test_split,KFold,cross_val_score,KFold\n",
        "from sklearn.model_selection import train_test_split\n",
        "from sklearn.preprocessing import StandardScaler\n",
        "from sklearn.metrics import roc_auc_score\n",
        "from sklearn.metrics import roc_curve, auc\n",
        "from imblearn.metrics import classification_report_imbalanced\n",
        "from sklearn.model_selection import GridSearchCV\n",
        "np.random.seed(0)\n",
        "\n",
        "from imblearn.over_sampling import RandomOverSampler\n",
        "from imblearn.under_sampling import RandomUnderSampler\n",
        "\n",
        "#importer les biblio\n",
        "import sklearn.metrics as metrics\n",
        "import sklearn\n",
        "import pandas as pd\n",
        "import pandas_profiling as pp\n",
        "import numpy as np\n",
        "import matplotlib.pyplot as plt\n",
        "import seaborn as sb\n",
        "from matplotlib import pyplot\n",
        "import scikitplot as skplt"
      ]
    },
    {
      "cell_type": "code",
      "execution_count": 4,
      "metadata": {
        "colab": {
          "base_uri": "https://localhost:8080/"
        },
        "id": "ndJJpUlMB0OI",
        "outputId": "6bc67134-a56d-4f53-8128-9f49bbbe9eed"
      },
      "outputs": [
        {
          "output_type": "stream",
          "name": "stdout",
          "text": [
            "Mounted at /content/drive\n"
          ]
        }
      ],
      "source": [
        "from google.colab import drive\n",
        "drive.mount('/content/drive')"
      ]
    },
    {
      "cell_type": "code",
      "execution_count": 5,
      "metadata": {
        "id": "CMJC3DauCEPJ"
      },
      "outputs": [],
      "source": [
        "number_of_samples = 1100"
      ]
    },
    {
      "cell_type": "code",
      "execution_count": 6,
      "metadata": {
        "id": "SEphjkF2CMTr"
      },
      "outputs": [],
      "source": [
        "data_attack = pd.read_csv('/content/drive/MyDrive/ddos_udp1/out-ddos.csv', nrows = number_of_samples)"
      ]
    },
    {
      "cell_type": "code",
      "execution_count": 7,
      "metadata": {
        "id": "2gU2zTsICM60"
      },
      "outputs": [],
      "source": [
        "data_normal = pd.read_csv('/content/drive/MyDrive/ddos_udp1/out-normal.csv', nrows = number_of_samples)"
      ]
    },
    {
      "cell_type": "code",
      "execution_count": 8,
      "metadata": {
        "id": "buVFE65uCdQB"
      },
      "outputs": [],
      "source": [
        "data_normal.columns=[ 'frame.len', 'ip.hdr_len', 'ip.len', 'ip.flags.rb', 'ip.flags.df',\n",
        "       'ip.flags.mf', 'ip.frag_offset', 'ip.ttl', 'ip.proto',\n",
        "       'udp.checksum.status', 'udp.dstport', 'udp.length', 'udp.port',\n",
        "       'udp.srcport', 'udp.stream', 'udp.time_delta', 'udp.time_relative','class']\n",
        "data_attack.columns=[ 'frame.len', 'ip.hdr_len', 'ip.len', 'ip.flags.rb', 'ip.flags.df',\n",
        "       'ip.flags.mf', 'ip.frag_offset', 'ip.ttl', 'ip.proto',\n",
        "       'udp.checksum.status', 'udp.dstport', 'udp.length', 'udp.port',\n",
        "       'udp.srcport', 'udp.stream', 'udp.time_delta', 'udp.time_relative','class']"
      ]
    },
    {
      "cell_type": "code",
      "execution_count": 9,
      "metadata": {
        "id": "MchqiyJfCf3-"
      },
      "outputs": [],
      "source": [
        "features=['frame.len','ip.len', 'ip.flags.rb', 'ip.flags.df',\n",
        "       'ip.flags.mf', 'ip.frag_offset', 'ip.ttl', 'ip.proto',\n",
        "       'udp.checksum.status', 'udp.dstport','udp.port',\n",
        "       'udp.stream', 'udp.time_delta', 'udp.time_relative']"
      ]
    },
    {
      "cell_type": "code",
      "execution_count": 10,
      "metadata": {
        "id": "PdJb165MCjYf"
      },
      "outputs": [],
      "source": [
        "X_normal= data_normal[features].values\n",
        "X_attack= data_attack[features].values\n",
        "Y_normal= data_normal['class']\n",
        "Y_attack= data_attack['class']\n",
        "X=np.concatenate((X_normal,X_attack))\n",
        "Y=np.concatenate((Y_normal,Y_attack))"
      ]
    },
    {
      "cell_type": "code",
      "execution_count": 11,
      "metadata": {
        "colab": {
          "base_uri": "https://localhost:8080/"
        },
        "id": "IoO_4HTsCmE2",
        "outputId": "9da27537-29c8-4163-de2d-4c64ca49cad3"
      },
      "outputs": [
        {
          "output_type": "execute_result",
          "data": {
            "text/plain": [
              "array([[9.14285714e-02, 9.14285714e-02, 0.00000000e+00, ...,\n",
              "        0.00000000e+00, 0.00000000e+00, 0.00000000e+00],\n",
              "       [2.24489796e-01, 2.24489796e-01, 0.00000000e+00, ...,\n",
              "        6.62251656e-03, 0.00000000e+00, 0.00000000e+00],\n",
              "       [9.14285714e-02, 9.14285714e-02, 0.00000000e+00, ...,\n",
              "        0.00000000e+00, 4.17247961e-03, 3.23223769e-03],\n",
              "       ...,\n",
              "       [6.44897959e-02, 6.44897959e-02, 0.00000000e+00, ...,\n",
              "        8.87417219e-01, 5.03493111e-05, 3.90034119e-05],\n",
              "       [5.71428571e-03, 5.71428571e-03, 0.00000000e+00, ...,\n",
              "        8.94039735e-01, 0.00000000e+00, 0.00000000e+00],\n",
              "       [9.22448980e-02, 9.22448980e-02, 0.00000000e+00, ...,\n",
              "        8.94039735e-01, 5.52033274e-05, 4.27636063e-05]])"
            ]
          },
          "metadata": {},
          "execution_count": 11
        }
      ],
      "source": [
        "from sklearn import preprocessing\n",
        "\n",
        "min_max_scaler = preprocessing.MinMaxScaler()\n",
        "\n",
        "x = min_max_scaler.fit_transform(X)\n",
        "\n",
        "x"
      ]
    },
    {
      "cell_type": "code",
      "execution_count": 12,
      "metadata": {
        "id": "qyYY4oKDCo7g"
      },
      "outputs": [],
      "source": [
        "for i in range(0,len(Y)):\n",
        "  if Y[i] ==0:\n",
        "    Y[i]=0\n",
        "  else:\n",
        "    Y[i]=1"
      ]
    },
    {
      "cell_type": "code",
      "execution_count": 13,
      "metadata": {
        "id": "1tITOe2ECs8M"
      },
      "outputs": [],
      "source": [
        "X_train,X_test,y_train,y_test = train_test_split(x, Y,test_size=0.3, stratify=Y)"
      ]
    },
    {
      "cell_type": "code",
      "execution_count": 14,
      "metadata": {
        "id": "YIcvrHDiCvdw"
      },
      "outputs": [],
      "source": [
        "X_train,X_val,y_train,y_val = train_test_split(X_train,y_train,test_size=0.3, stratify=y_train)"
      ]
    },
    {
      "cell_type": "code",
      "execution_count": 15,
      "metadata": {
        "id": "eZE0CVjTDLQG"
      },
      "outputs": [],
      "source": [
        "x_l=X_train.tolist()\n",
        "y_l=y_train.tolist()\n",
        "x_a=np.array(x_l)\n",
        "y_a=np.array(y_l)\n",
        "x_l=[]\n",
        "y_l=[]\n",
        "xt_l=X_test.tolist()\n",
        "yt_l=y_test.tolist()\n",
        "xt_a=np.array(xt_l)\n",
        "yt_a=np.array(yt_l)\n",
        "xt_l=[]\n",
        "yt_l=[]\n",
        "xv_l=X_val.tolist()\n",
        "yv_l=y_val.tolist()\n",
        "xv_a=np.array(xv_l)\n",
        "yv_a=np.array(yv_l)\n",
        "xv_l=[]\n",
        "yv_l=[]"
      ]
    },
    {
      "cell_type": "markdown",
      "metadata": {
        "id": "ve8MvpSADVZA"
      },
      "source": [
        "Random forest:"
      ]
    },
    {
      "cell_type": "code",
      "execution_count": 50,
      "metadata": {
        "id": "XHnEZgVADNmC"
      },
      "outputs": [],
      "source": [
        "clf = RandomForestClassifier(max_depth=2, random_state=0)"
      ]
    },
    {
      "cell_type": "code",
      "execution_count": 51,
      "metadata": {
        "colab": {
          "base_uri": "https://localhost:8080/"
        },
        "id": "fqKpv7rBDZ7D",
        "outputId": "72785078-9c38-46b0-8d0e-bd42ec26d880"
      },
      "outputs": [
        {
          "output_type": "execute_result",
          "data": {
            "text/plain": [
              "RandomForestClassifier(max_depth=2, random_state=0)"
            ]
          },
          "metadata": {},
          "execution_count": 51
        }
      ],
      "source": [
        "clf.fit(x_a,y_a)"
      ]
    },
    {
      "cell_type": "code",
      "execution_count": 52,
      "metadata": {
        "colab": {
          "base_uri": "https://localhost:8080/"
        },
        "id": "oRGfiU7qDb6K",
        "outputId": "efb2478a-1359-414b-d2cf-75712316f1c7"
      },
      "outputs": [
        {
          "output_type": "execute_result",
          "data": {
            "text/plain": [
              "array([0, 1, 1, 0, 1, 0, 1, 0, 1, 1, 0, 0, 0, 0, 0, 0, 0, 0, 1, 1, 1, 0,\n",
              "       0, 0, 0, 0, 1, 1, 0, 1, 0, 1, 0, 1, 0, 0, 0, 1, 0, 0, 1, 1, 1, 1,\n",
              "       0, 1, 0, 1, 0, 1, 1, 0, 0, 1, 1, 0, 0, 0, 0, 0, 1, 1, 0, 1, 0, 1,\n",
              "       1, 1, 0, 0, 1, 1, 0, 0, 1, 0, 1, 0, 0, 0, 1, 0, 0, 0, 1, 0, 0, 1,\n",
              "       0, 0, 1, 1, 0, 0, 1, 0, 1, 0, 0, 1, 1, 1, 0, 0, 0, 1, 1, 0, 0, 0,\n",
              "       1, 1, 0, 0, 1, 0, 0, 0, 1, 0, 0, 1, 0, 0, 1, 1, 1, 1, 0, 1, 1, 0,\n",
              "       1, 0, 0, 0, 1, 0, 0, 0, 0, 1, 0, 1, 1, 1, 1, 1, 0, 0, 1, 0, 1, 1,\n",
              "       0, 1, 0, 0, 1, 1, 1, 0, 1, 0, 1, 1, 1, 0, 0, 1, 1, 1, 1, 0, 0, 0,\n",
              "       0, 0, 1, 1, 0, 1, 1, 0, 1, 0, 0, 0, 1, 1, 0, 0, 1, 0, 1, 0, 0, 0,\n",
              "       0, 1, 0, 1, 0, 0, 1, 0, 1, 1, 1, 0, 1, 1, 0, 1, 0, 0, 1, 0, 1, 1,\n",
              "       0, 0, 0, 1, 1, 1, 1, 0, 0, 0, 1, 1, 1, 0, 0, 0, 1, 1, 1, 1, 0, 1,\n",
              "       1, 1, 1, 0, 0, 0, 1, 0, 1, 1, 0, 1, 0, 1, 0, 1, 0, 0, 1, 1, 1, 0,\n",
              "       0, 0, 0, 0, 0, 0, 1, 1, 0, 1, 1, 0, 0, 1, 1, 1, 0, 1, 0, 0, 0, 1,\n",
              "       0, 0, 0, 0, 0, 0, 1, 1, 1, 0, 0, 0, 0, 1, 1, 0, 1, 1, 1, 0, 0, 1,\n",
              "       1, 1, 1, 1, 1, 0, 0, 0, 0, 0, 1, 0, 1, 1, 0, 1, 0, 0, 0, 1, 0, 1,\n",
              "       1, 0, 0, 1, 1, 0, 0, 0, 0, 0, 0, 1, 0, 1, 0, 1, 1, 0, 1, 1, 0, 1,\n",
              "       1, 0, 1, 0, 0, 1, 0, 1, 0, 0, 1, 1, 0, 1, 0, 0, 1, 1, 0, 0, 1, 1,\n",
              "       0, 1, 0, 0, 0, 1, 1, 0, 0, 1, 0, 0, 1, 0, 1, 1, 0, 0, 0, 1, 0, 1,\n",
              "       1, 1, 1, 1, 0, 0, 0, 1, 1, 1, 1, 0, 0, 1, 1, 0, 1, 1, 1, 1, 1, 0,\n",
              "       1, 1, 0, 1, 0, 1, 0, 0, 1, 0, 0, 1, 1, 0, 1, 1, 0, 0, 0, 0, 0, 1,\n",
              "       1, 0, 1, 1, 0, 0, 1, 0, 1, 0, 1, 1, 1, 0, 1, 0, 1, 0, 1, 0, 1, 0,\n",
              "       0, 0, 1, 1, 1, 1, 1, 0, 1, 0, 0, 1, 0, 0, 0, 0, 0, 0, 1, 0, 0, 0,\n",
              "       0, 1, 1, 0, 0, 1, 1, 1, 1, 0, 0, 0, 0, 0, 0, 1, 1, 0, 0, 1, 0, 0,\n",
              "       0, 1, 0, 1, 0, 1, 0, 1, 0, 0, 1, 1, 0, 0, 0, 0, 1, 1, 0, 1, 1, 1,\n",
              "       0, 1, 1, 1, 0, 1, 0, 1, 0, 0, 0, 0, 0, 1, 1, 0, 0, 0, 0, 1, 0, 1,\n",
              "       0, 0, 1, 1, 0, 1, 1, 1, 0, 1, 0, 1, 1, 1, 1, 1, 0, 1, 0, 0, 0, 0,\n",
              "       1, 0, 0, 0, 0, 0, 0, 1, 0, 1, 1, 1, 0, 0, 1, 1, 0, 1, 0, 0, 1, 1,\n",
              "       1, 1, 0, 0, 0, 1, 0, 0, 0, 1, 1, 1, 1, 1, 0, 0, 1, 1, 0, 1, 1, 0,\n",
              "       0, 0, 0, 1, 1, 1, 0, 1, 1, 0, 1, 0, 0, 0, 0, 0, 0, 0, 0, 1, 0, 0,\n",
              "       1, 0, 0, 1, 1, 0, 0, 1, 0, 1, 1, 0, 1, 1, 1, 0, 1, 1, 0, 0, 0, 1])"
            ]
          },
          "metadata": {},
          "execution_count": 52
        }
      ],
      "source": [
        "#Predict the response for test dataset\n",
        "predictions = clf.predict(xt_a)\n",
        "predictions"
      ]
    },
    {
      "cell_type": "code",
      "execution_count": 53,
      "metadata": {
        "colab": {
          "base_uri": "https://localhost:8080/",
          "height": 357
        },
        "id": "Pr_jPb69Dd6L",
        "outputId": "6bfe7bf6-2cab-42ca-ffcc-78e0c76d7bfa"
      },
      "outputs": [
        {
          "output_type": "stream",
          "name": "stdout",
          "text": [
            "[[242  88]\n",
            " [106 224]]\n"
          ]
        },
        {
          "output_type": "execute_result",
          "data": {
            "text/plain": [
              "<matplotlib.axes._subplots.AxesSubplot at 0x7f3c90b35790>"
            ]
          },
          "metadata": {},
          "execution_count": 53
        },
        {
          "output_type": "display_data",
          "data": {
            "text/plain": [
              "<Figure size 432x288 with 2 Axes>"
            ],
            "image/png": "[encoded data removed]"
          },
          "metadata": {}
        }
      ],
      "source": [
        "print(metrics.confusion_matrix(yt_a,predictions))\n",
        "# using scikiptlot\n",
        "skplt.metrics.plot_confusion_matrix(yt_a,predictions)"
      ]
    },
    {
      "cell_type": "code",
      "source": [
        "#define metrics\n",
        "y_pred_proba = clf.predict_proba(xt_a)[::,1]\n",
        "fpr, tpr, _ = metrics.roc_curve(yt_a,  y_pred_proba)\n",
        "\n",
        "#create ROC curve\n",
        "plt.plot(fpr,tpr)\n",
        "plt.ylabel('True Positive Rate')\n",
        "plt.xlabel('False Positive Rate')\n",
        "plt.show()"
      ],
      "metadata": {
        "colab": {
          "base_uri": "https://localhost:8080/",
          "height": 285
        },
        "id": "USvNMtR1C2KW",
        "outputId": "99f1a9a3-b9d0-40b9-e04f-b0c8829db2d6"
      },
      "execution_count": 56,
      "outputs": [
        {
          "output_type": "display_data",
          "data": {
            "text/plain": [
              "<Figure size 432x288 with 1 Axes>"
            ],
            "image/png": "[encoded data removed]"
          },
          "metadata": {}
        }
      ]
    },
    {
      "cell_type": "code",
      "execution_count": 54,
      "metadata": {
        "colab": {
          "base_uri": "https://localhost:8080/"
        },
        "id": "xPiJNFq0DhRD",
        "outputId": "0997378e-1276-4f64-f5cc-2ee13612e2f3"
      },
      "outputs": [
        {
          "output_type": "stream",
          "name": "stdout",
          "text": [
            "Accuracy = 0.71\n",
            "F1 = 0.70\n",
            "Precision = 0.72\n",
            "Recall = 0.68\n",
            "log-loss = 10.15\n",
            "ROC-AUC = 0.71\n"
          ]
        }
      ],
      "source": [
        "acc = metrics.accuracy_score(yt_a, predictions)\n",
        "print(\"Accuracy = %.2f\" %(acc))\n",
        "f1 = metrics.f1_score(yt_a, predictions)\n",
        "print(\"F1 = %.2f\" %(f1))\n",
        "p = metrics.precision_score(yt_a, predictions)\n",
        "print(\"Precision = %.2f\" %(p))\n",
        "r = metrics.recall_score(yt_a, predictions)\n",
        "print(\"Recall = %.2f\" %(r))\n",
        "loss = metrics.log_loss(yt_a, predictions)\n",
        "print(\"log-loss = %.2f\" %(loss))\n",
        "auc = metrics.roc_auc_score(yt_a, predictions)\n",
        "print(\"ROC-AUC = %.2f\" %(auc))"
      ]
    },
    {
      "cell_type": "markdown",
      "metadata": {
        "id": "1ckB5hLUDpBp"
      },
      "source": [
        "Adaboost classifier:"
      ]
    },
    {
      "cell_type": "code",
      "execution_count": 57,
      "metadata": {
        "id": "cnPKThMADmT6"
      },
      "outputs": [],
      "source": [
        "ad=AdaBoostClassifier(base_estimator=clf)"
      ]
    },
    {
      "cell_type": "code",
      "execution_count": 58,
      "metadata": {
        "colab": {
          "base_uri": "https://localhost:8080/"
        },
        "id": "xs6Fh674Dtg2",
        "outputId": "c192e568-a064-41c1-bb8f-bbab62f75dd5"
      },
      "outputs": [
        {
          "output_type": "execute_result",
          "data": {
            "text/plain": [
              "AdaBoostClassifier(base_estimator=RandomForestClassifier(max_depth=2,\n",
              "                                                         random_state=0))"
            ]
          },
          "metadata": {},
          "execution_count": 58
        }
      ],
      "source": [
        "ad.fit(xt_a,yt_a)"
      ]
    },
    {
      "cell_type": "code",
      "execution_count": 59,
      "metadata": {
        "id": "NXo55o9vDw3e"
      },
      "outputs": [],
      "source": [
        "y_pred = ad.predict(xv_a)"
      ]
    },
    {
      "cell_type": "code",
      "execution_count": 60,
      "metadata": {
        "colab": {
          "base_uri": "https://localhost:8080/",
          "height": 357
        },
        "id": "E8pn5dR8D1AI",
        "outputId": "65c555bd-e61c-4a04-ef8c-18def5656334"
      },
      "outputs": [
        {
          "output_type": "stream",
          "name": "stdout",
          "text": [
            "[[205  26]\n",
            " [ 22 209]]\n"
          ]
        },
        {
          "output_type": "execute_result",
          "data": {
            "text/plain": [
              "<matplotlib.axes._subplots.AxesSubplot at 0x7f3c90703810>"
            ]
          },
          "metadata": {},
          "execution_count": 60
        },
        {
          "output_type": "display_data",
          "data": {
            "text/plain": [
              "<Figure size 432x288 with 2 Axes>"
            ],
            "image/png": "[encoded data removed]"
          },
          "metadata": {}
        }
      ],
      "source": [
        "print(metrics.confusion_matrix(yv_a,y_pred))\n",
        "# using scikiptlot\n",
        "skplt.metrics.plot_confusion_matrix(yv_a,y_pred)"
      ]
    },
    {
      "cell_type": "code",
      "source": [
        "#define metrics\n",
        "y_pred_proba = ad.predict_proba(xv_a)[::,1]\n",
        "fpr, tpr, _ = metrics.roc_curve(yv_a,  y_pred_proba)\n",
        "\n",
        "#create ROC curve\n",
        "plt.plot(fpr,tpr)\n",
        "plt.ylabel('True Positive Rate')\n",
        "plt.xlabel('False Positive Rate')\n",
        "plt.show()"
      ],
      "metadata": {
        "colab": {
          "base_uri": "https://localhost:8080/",
          "height": 285
        },
        "id": "odBL4KIpDZgT",
        "outputId": "5cac3674-9f07-49c0-c373-eed7b5cb36a3"
      },
      "execution_count": 63,
      "outputs": [
        {
          "output_type": "display_data",
          "data": {
            "text/plain": [
              "<Figure size 432x288 with 1 Axes>"
            ],
            "image/png": "[encoded data removed]"
          },
          "metadata": {}
        }
      ]
    },
    {
      "cell_type": "code",
      "execution_count": 61,
      "metadata": {
        "colab": {
          "base_uri": "https://localhost:8080/"
        },
        "id": "k8UaydvLD3sG",
        "outputId": "030b14f6-9411-4672-9aba-c20214962832"
      },
      "outputs": [
        {
          "output_type": "stream",
          "name": "stdout",
          "text": [
            "Accuracy = 0.90\n",
            "F1 = 0.90\n",
            "Precision = 0.89\n",
            "Recall = 0.90\n",
            "log-loss = 3.59\n",
            "ROC-AUC = 0.90\n"
          ]
        }
      ],
      "source": [
        "acc = metrics.accuracy_score(yv_a,y_pred)\n",
        "print(\"Accuracy = %.2f\" %(acc))\n",
        "f1 = metrics.f1_score(yv_a,y_pred)\n",
        "print(\"F1 = %.2f\" %(f1))\n",
        "p = metrics.precision_score(yv_a,y_pred)\n",
        "print(\"Precision = %.2f\" %(p))\n",
        "r = metrics.recall_score(yv_a,y_pred)\n",
        "print(\"Recall = %.2f\" %(r))\n",
        "loss = metrics.log_loss(yv_a,y_pred)\n",
        "print(\"log-loss = %.2f\" %(loss))\n",
        "auc = metrics.roc_auc_score(yv_a,y_pred)\n",
        "print(\"ROC-AUC = %.2f\" %(auc))"
      ]
    },
    {
      "cell_type": "code",
      "source": [
        "import joblib"
      ],
      "metadata": {
        "id": "gn2M8VoXHuY0"
      },
      "execution_count": 103,
      "outputs": []
    },
    {
      "cell_type": "code",
      "source": [
        "joblib.dump(ad,'/content/drive/MyDrive/ddos_ML/ad.sav')"
      ],
      "metadata": {
        "colab": {
          "base_uri": "https://localhost:8080/"
        },
        "id": "0zmSas7oHvkx",
        "outputId": "6b9ae3e5-95b5-4eb9-85d3-0e8374c77994"
      },
      "execution_count": 104,
      "outputs": [
        {
          "output_type": "execute_result",
          "data": {
            "text/plain": [
              "['/content/drive/MyDrive/ddos_ML/ad.sav']"
            ]
          },
          "metadata": {},
          "execution_count": 104
        }
      ]
    },
    {
      "cell_type": "markdown",
      "metadata": {
        "id": "D7xM6CqHD_TL"
      },
      "source": [
        "SVM:"
      ]
    },
    {
      "cell_type": "code",
      "execution_count": 26,
      "metadata": {
        "id": "_S4AVW4OD8Cq"
      },
      "outputs": [],
      "source": [
        "SVM = svm.SVC(kernel='linear') # Linear Kernel\n",
        "\n",
        "#Train the model using the training sets\n",
        "SVM.fit(x_a, y_a)\n",
        "\n",
        "#Predict the response for test dataset\n",
        "y_pred = SVM.predict(xt_a)"
      ]
    },
    {
      "cell_type": "code",
      "execution_count": 27,
      "metadata": {
        "colab": {
          "base_uri": "https://localhost:8080/",
          "height": 357
        },
        "id": "5AHqN2H0EDe3",
        "outputId": "4e76efbb-1397-4d7f-ddb0-68ce20bdaa05"
      },
      "outputs": [
        {
          "output_type": "stream",
          "name": "stdout",
          "text": [
            "[[223 107]\n",
            " [158 172]]\n"
          ]
        },
        {
          "output_type": "execute_result",
          "data": {
            "text/plain": [
              "<matplotlib.axes._subplots.AxesSubplot at 0x7f3c936e5350>"
            ]
          },
          "metadata": {},
          "execution_count": 27
        },
        {
          "output_type": "display_data",
          "data": {
            "text/plain": [
              "<Figure size 432x288 with 2 Axes>"
            ],
            "image/png": "[encoded data removed]"
          },
          "metadata": {}
        }
      ],
      "source": [
        "print(metrics.confusion_matrix(yt_a, y_pred))\n",
        "# using scikiptlot\n",
        "skplt.metrics.plot_confusion_matrix(yt_a, y_pred)"
      ]
    },
    {
      "cell_type": "code",
      "execution_count": 28,
      "metadata": {
        "colab": {
          "base_uri": "https://localhost:8080/"
        },
        "id": "9Nbwx0hCEHll",
        "outputId": "f7952e9c-bb1a-49e7-db3f-c53598a8808c"
      },
      "outputs": [
        {
          "output_type": "stream",
          "name": "stdout",
          "text": [
            "Accuracy: 0.5984848484848485\n",
            "Precision: 0.6164874551971327\n",
            "Recall: 0.5212121212121212\n"
          ]
        }
      ],
      "source": [
        "# Model Accuracy: how often is the classifier correct?\n",
        "print(\"Accuracy:\",metrics.accuracy_score(yt_a, y_pred))\n",
        "# Model Precision: what percentage of positive tuples are labeled as such?\n",
        "print(\"Precision:\",metrics.precision_score(yt_a, y_pred))\n",
        "\n",
        "# Model Recall: what percentage of positive tuples are labelled as such?\n",
        "print(\"Recall:\",metrics.recall_score(yt_a, y_pred))"
      ]
    },
    {
      "cell_type": "markdown",
      "metadata": {
        "id": "hDgtRE2KEO16"
      },
      "source": [
        "Gradient Boosting Classifier"
      ]
    },
    {
      "cell_type": "code",
      "execution_count": 81,
      "metadata": {
        "id": "9gsqjkO6EMS6"
      },
      "outputs": [],
      "source": [
        "gb_clf = GradientBoostingClassifier(n_estimators=60, learning_rate=0.09, max_depth=3, random_state=0).fit(x_a, y_a)"
      ]
    },
    {
      "cell_type": "code",
      "execution_count": 82,
      "metadata": {
        "id": "n1TULLeTyywI"
      },
      "outputs": [],
      "source": [
        "y_pred = gb_clf.predict(xt_a)"
      ]
    },
    {
      "cell_type": "code",
      "execution_count": 83,
      "metadata": {
        "colab": {
          "base_uri": "https://localhost:8080/",
          "height": 357
        },
        "id": "xEilkZQ1ynUw",
        "outputId": "51c95021-000f-4ac9-ee53-aaa184e202aa"
      },
      "outputs": [
        {
          "output_type": "stream",
          "name": "stdout",
          "text": [
            "[[278  52]\n",
            " [ 43 287]]\n"
          ]
        },
        {
          "output_type": "execute_result",
          "data": {
            "text/plain": [
              "<matplotlib.axes._subplots.AxesSubplot at 0x7f3c9011d450>"
            ]
          },
          "metadata": {},
          "execution_count": 83
        },
        {
          "output_type": "display_data",
          "data": {
            "text/plain": [
              "<Figure size 432x288 with 2 Axes>"
            ],
            "image/png": "[encoded data removed]"
          },
          "metadata": {}
        }
      ],
      "source": [
        "print(metrics.confusion_matrix(yt_a, y_pred))\n",
        "# using scikiptlot\n",
        "skplt.metrics.plot_confusion_matrix(yt_a, y_pred)"
      ]
    },
    {
      "cell_type": "code",
      "source": [
        "#define metrics\n",
        "y_pred_proba = gb_clf.predict_proba(xt_a)[::,1]\n",
        "fpr, tpr, _ = metrics.roc_curve(yt_a,  y_pred_proba)\n",
        "\n",
        "#create ROC curve\n",
        "plt.plot(fpr,tpr)\n",
        "plt.ylabel('True Positive Rate')\n",
        "plt.xlabel('False Positive Rate')\n",
        "plt.show()"
      ],
      "metadata": {
        "colab": {
          "base_uri": "https://localhost:8080/",
          "height": 285
        },
        "id": "he7FLkNZDeD0",
        "outputId": "c8ad894f-04c3-431d-b8e0-add7833d9bd8"
      },
      "execution_count": 85,
      "outputs": [
        {
          "output_type": "display_data",
          "data": {
            "text/plain": [
              "<Figure size 432x288 with 1 Axes>"
            ],
            "image/png": "[encoded data removed]"
          },
          "metadata": {}
        }
      ]
    },
    {
      "cell_type": "code",
      "execution_count": 84,
      "metadata": {
        "colab": {
          "base_uri": "https://localhost:8080/"
        },
        "id": "V8CgsggRETd3",
        "outputId": "cf804a5f-0f29-4e50-ef92-a50e243050de"
      },
      "outputs": [
        {
          "output_type": "stream",
          "name": "stdout",
          "text": [
            "Accuracy: 0.8560606060606061\n",
            "Precision: 0.8466076696165191\n",
            "Recall: 0.8696969696969697\n"
          ]
        }
      ],
      "source": [
        "# Model Accuracy: how often is the classifier correct?\n",
        "print(\"Accuracy:\",metrics.accuracy_score(yt_a, y_pred))\n",
        "# Model Precision: what percentage of positive tuples are labeled as such?\n",
        "print(\"Precision:\",metrics.precision_score(yt_a, y_pred))\n",
        "\n",
        "# Model Recall: what percentage of positive tuples are labelled as such?\n",
        "print(\"Recall:\",metrics.recall_score(yt_a, y_pred))"
      ]
    },
    {
      "cell_type": "markdown",
      "metadata": {
        "id": "jq5_oTZLzjvz"
      },
      "source": [
        "KNN:"
      ]
    },
    {
      "cell_type": "code",
      "execution_count": 86,
      "metadata": {
        "colab": {
          "base_uri": "https://localhost:8080/"
        },
        "id": "QLkmlD--zexc",
        "outputId": "ca7fd77c-9093-40ca-a33d-4cee056983ba"
      },
      "outputs": [
        {
          "output_type": "execute_result",
          "data": {
            "text/plain": [
              "KNeighborsClassifier()"
            ]
          },
          "metadata": {},
          "execution_count": 86
        }
      ],
      "source": [
        "from sklearn.neighbors import KNeighborsClassifier\n",
        "classifier = KNeighborsClassifier(n_neighbors=5)\n",
        "classifier.fit(x_a, y_a)"
      ]
    },
    {
      "cell_type": "code",
      "execution_count": 87,
      "metadata": {
        "id": "6ihu4xYGzvTY"
      },
      "outputs": [],
      "source": [
        "y_pred = classifier.predict(xt_a)"
      ]
    },
    {
      "cell_type": "code",
      "execution_count": 88,
      "metadata": {
        "colab": {
          "base_uri": "https://localhost:8080/",
          "height": 357
        },
        "id": "MAUd_c5Rz3LT",
        "outputId": "e81d0fc8-0785-49df-8c0e-3964bea08383"
      },
      "outputs": [
        {
          "output_type": "stream",
          "name": "stdout",
          "text": [
            "[[268  62]\n",
            " [ 63 267]]\n"
          ]
        },
        {
          "output_type": "execute_result",
          "data": {
            "text/plain": [
              "<matplotlib.axes._subplots.AxesSubplot at 0x7f3c8ffde9d0>"
            ]
          },
          "metadata": {},
          "execution_count": 88
        },
        {
          "output_type": "display_data",
          "data": {
            "text/plain": [
              "<Figure size 432x288 with 2 Axes>"
            ],
            "image/png": "[encoded data removed]"
          },
          "metadata": {}
        }
      ],
      "source": [
        "print(metrics.confusion_matrix(yt_a, y_pred))\n",
        "# using scikiptlot\n",
        "skplt.metrics.plot_confusion_matrix(yt_a, y_pred)"
      ]
    },
    {
      "cell_type": "code",
      "source": [
        "#define metrics\n",
        "y_pred_proba = classifier.predict_proba(xt_a)[::,1]\n",
        "fpr, tpr, _ = metrics.roc_curve(yt_a,  y_pred_proba)\n",
        "\n",
        "#create ROC curve\n",
        "plt.plot(fpr,tpr)\n",
        "plt.ylabel('True Positive Rate')\n",
        "plt.xlabel('False Positive Rate')\n",
        "plt.show()"
      ],
      "metadata": {
        "colab": {
          "base_uri": "https://localhost:8080/",
          "height": 285
        },
        "id": "9rkJTIHTDcJh",
        "outputId": "948fb4f6-947e-44d0-f862-34f8be687a6a"
      },
      "execution_count": 90,
      "outputs": [
        {
          "output_type": "display_data",
          "data": {
            "text/plain": [
              "<Figure size 432x288 with 1 Axes>"
            ],
            "image/png": "[encoded data removed]"
          },
          "metadata": {}
        }
      ]
    },
    {
      "cell_type": "code",
      "execution_count": 89,
      "metadata": {
        "colab": {
          "base_uri": "https://localhost:8080/"
        },
        "id": "VScj4dGRz9RT",
        "outputId": "818b62f9-9a25-4311-e78a-545f2fe98a97"
      },
      "outputs": [
        {
          "output_type": "stream",
          "name": "stdout",
          "text": [
            "Accuracy: 0.8106060606060606\n",
            "Precision: 0.8115501519756839\n",
            "Recall: 0.8090909090909091\n"
          ]
        }
      ],
      "source": [
        "# Model Accuracy: how often is the classifier correct?\n",
        "print(\"Accuracy:\",metrics.accuracy_score(yt_a, y_pred))\n",
        "# Model Precision: what percentage of positive tuples are labeled as such?\n",
        "print(\"Precision:\",metrics.precision_score(yt_a, y_pred))\n",
        "\n",
        "# Model Recall: what percentage of positive tuples are labelled as such?\n",
        "print(\"Recall:\",metrics.recall_score(yt_a, y_pred))"
      ]
    },
    {
      "cell_type": "markdown",
      "metadata": {
        "id": "42_srjng1HCQ"
      },
      "source": [
        "Logistique Regression"
      ]
    },
    {
      "cell_type": "code",
      "execution_count": 91,
      "metadata": {
        "id": "oqy3b-HO1E_J"
      },
      "outputs": [],
      "source": [
        "from sklearn.linear_model import LogisticRegression"
      ]
    },
    {
      "cell_type": "code",
      "execution_count": 92,
      "metadata": {
        "colab": {
          "base_uri": "https://localhost:8080/"
        },
        "id": "umFsBCNt1QTm",
        "outputId": "b3527ba8-ae38-43b6-b4d6-5c90fb9375dd"
      },
      "outputs": [
        {
          "output_type": "execute_result",
          "data": {
            "text/plain": [
              "LogisticRegression(penalty='none', solver='newton-cg')"
            ]
          },
          "metadata": {},
          "execution_count": 92
        }
      ],
      "source": [
        "modele_logit = LogisticRegression(penalty='none',solver='newton-cg')\n",
        "modele_logit.fit(x_a, y_a)"
      ]
    },
    {
      "cell_type": "code",
      "execution_count": 93,
      "metadata": {
        "id": "s5LWasp01cRt"
      },
      "outputs": [],
      "source": [
        "y_pred = modele_logit.predict(xt_a)"
      ]
    },
    {
      "cell_type": "code",
      "execution_count": 94,
      "metadata": {
        "colab": {
          "base_uri": "https://localhost:8080/",
          "height": 357
        },
        "id": "vQu_wIYJ1kGr",
        "outputId": "3da556fc-8dee-47b0-997e-d5eb655c008c"
      },
      "outputs": [
        {
          "output_type": "stream",
          "name": "stdout",
          "text": [
            "[[226 104]\n",
            " [159 171]]\n"
          ]
        },
        {
          "output_type": "execute_result",
          "data": {
            "text/plain": [
              "<matplotlib.axes._subplots.AxesSubplot at 0x7f3c8fef4210>"
            ]
          },
          "metadata": {},
          "execution_count": 94
        },
        {
          "output_type": "display_data",
          "data": {
            "text/plain": [
              "<Figure size 432x288 with 2 Axes>"
            ],
            "image/png": "[encoded data removed]"
          },
          "metadata": {}
        }
      ],
      "source": [
        "print(metrics.confusion_matrix(yt_a, y_pred))\n",
        "# using scikiptlot\n",
        "skplt.metrics.plot_confusion_matrix(yt_a, y_pred)"
      ]
    },
    {
      "cell_type": "code",
      "source": [
        "#define metrics\n",
        "y_pred_proba = modele_logit.predict_proba(xt_a)[::,1]\n",
        "fpr, tpr, _ = metrics.roc_curve(yt_a,  y_pred_proba)\n",
        "\n",
        "#create ROC curve\n",
        "plt.plot(fpr,tpr)\n",
        "plt.ylabel('True Positive Rate')\n",
        "plt.xlabel('False Positive Rate')\n",
        "plt.show()"
      ],
      "metadata": {
        "colab": {
          "base_uri": "https://localhost:8080/",
          "height": 285
        },
        "id": "BRHjwN2HDgI_",
        "outputId": "80430ce9-1996-4db2-e2b3-eba6f802b26b"
      },
      "execution_count": 96,
      "outputs": [
        {
          "output_type": "display_data",
          "data": {
            "text/plain": [
              "<Figure size 432x288 with 1 Axes>"
            ],
            "image/png": "[encoded data removed]"
          },
          "metadata": {}
        }
      ]
    },
    {
      "cell_type": "code",
      "execution_count": 95,
      "metadata": {
        "colab": {
          "base_uri": "https://localhost:8080/"
        },
        "id": "y5_OX2961pNT",
        "outputId": "05aec176-ff2e-4e60-8f79-138ab4d76339"
      },
      "outputs": [
        {
          "output_type": "stream",
          "name": "stdout",
          "text": [
            "Accuracy: 0.6015151515151516\n",
            "Precision: 0.6218181818181818\n",
            "Recall: 0.5181818181818182\n"
          ]
        }
      ],
      "source": [
        "# Model Accuracy: how often is the classifier correct?\n",
        "print(\"Accuracy:\",metrics.accuracy_score(yt_a, y_pred))\n",
        "# Model Precision: what percentage of positive tuples are labeled as such?\n",
        "print(\"Precision:\",metrics.precision_score(yt_a, y_pred))\n",
        "\n",
        "# Model Recall: what percentage of positive tuples are labelled as such?\n",
        "print(\"Recall:\",metrics.recall_score(yt_a, y_pred))"
      ]
    },
    {
      "cell_type": "markdown",
      "source": [
        "naïve bayésienne"
      ],
      "metadata": {
        "id": "nLGgK7tABMOC"
      }
    },
    {
      "cell_type": "code",
      "source": [
        "from sklearn.naive_bayes import GaussianNB"
      ],
      "metadata": {
        "id": "mYpekkY2BOX-"
      },
      "execution_count": 97,
      "outputs": []
    },
    {
      "cell_type": "code",
      "source": [
        "gnb = GaussianNB()"
      ],
      "metadata": {
        "id": "paFxXGLIBwaa"
      },
      "execution_count": 98,
      "outputs": []
    },
    {
      "cell_type": "code",
      "source": [
        "y_pred = gnb.fit(x_a, y_a).predict(xt_a)"
      ],
      "metadata": {
        "id": "aEHyJ9UMB3Kb"
      },
      "execution_count": 99,
      "outputs": []
    },
    {
      "cell_type": "code",
      "source": [
        "print(metrics.confusion_matrix(yt_a, y_pred))\n",
        "# using scikiptlot\n",
        "skplt.metrics.plot_confusion_matrix(yt_a, y_pred)"
      ],
      "metadata": {
        "colab": {
          "base_uri": "https://localhost:8080/",
          "height": 357
        },
        "id": "J6ZDH3J6CE18",
        "outputId": "457cc657-3019-4715-dd47-bb7c9d98e2cb"
      },
      "execution_count": 100,
      "outputs": [
        {
          "output_type": "stream",
          "name": "stdout",
          "text": [
            "[[263  67]\n",
            " [202 128]]\n"
          ]
        },
        {
          "output_type": "execute_result",
          "data": {
            "text/plain": [
              "<matplotlib.axes._subplots.AxesSubplot at 0x7f3c8fdf8510>"
            ]
          },
          "metadata": {},
          "execution_count": 100
        },
        {
          "output_type": "display_data",
          "data": {
            "text/plain": [
              "<Figure size 432x288 with 2 Axes>"
            ],
            "image/png": "[encoded data removed]"
          },
          "metadata": {}
        }
      ]
    },
    {
      "cell_type": "code",
      "source": [
        "#define metrics\n",
        "y_pred_proba = gnb.predict_proba(xt_a)[::,1]\n",
        "fpr, tpr, _ = metrics.roc_curve(yt_a,  y_pred_proba)\n",
        "\n",
        "#create ROC curve\n",
        "plt.plot(fpr,tpr)\n",
        "plt.ylabel('True Positive Rate')\n",
        "plt.xlabel('False Positive Rate')\n",
        "plt.show()"
      ],
      "metadata": {
        "colab": {
          "base_uri": "https://localhost:8080/",
          "height": 285
        },
        "id": "p624DE3_DiKz",
        "outputId": "388072b2-65f0-4ffc-d887-36fad05df5ed"
      },
      "execution_count": 102,
      "outputs": [
        {
          "output_type": "display_data",
          "data": {
            "text/plain": [
              "<Figure size 432x288 with 1 Axes>"
            ],
            "image/png": "[encoded data removed]"
          },
          "metadata": {}
        }
      ]
    },
    {
      "cell_type": "code",
      "source": [
        "# Model Accuracy: how often is the classifier correct?\n",
        "print(\"Accuracy:\",metrics.accuracy_score(yt_a, y_pred))\n",
        "# Model Precision: what percentage of positive tuples are labeled as such?\n",
        "print(\"Precision:\",metrics.precision_score(yt_a, y_pred))\n",
        "\n",
        "# Model Recall: what percentage of positive tuples are labelled as such?\n",
        "print(\"Recall:\",metrics.recall_score(yt_a, y_pred))"
      ],
      "metadata": {
        "colab": {
          "base_uri": "https://localhost:8080/"
        },
        "id": "nZ4fWhZpCKAR",
        "outputId": "94602a09-80b0-4966-e964-463a954399f4"
      },
      "execution_count": 101,
      "outputs": [
        {
          "output_type": "stream",
          "name": "stdout",
          "text": [
            "Accuracy: 0.5924242424242424\n",
            "Precision: 0.6564102564102564\n",
            "Recall: 0.3878787878787879\n"
          ]
        }
      ]
    }
  ],
  "metadata": {
    "colab": {
      "name": "Untitled8 (1).ipynb",
      "provenance": []
    },
    "kernelspec": {
      "display_name": "Python 3",
      "name": "python3"
    },
    "language_info": {
      "name": "python"
    }
  },
  "nbformat": 4,
  "nbformat_minor": 0
}